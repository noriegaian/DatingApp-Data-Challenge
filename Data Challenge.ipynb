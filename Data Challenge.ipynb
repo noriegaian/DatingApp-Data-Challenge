{
 "cells": [
  {
   "cell_type": "markdown",
   "metadata": {},
   "source": [
    "## Table of Contents\n",
    "1. Import Libraries\n",
    "2. Import Data\n",
    "3. Data Preprocessing\n",
    "4. Quick EDA & Data Cleansing\n",
    "    1. Date Features\n",
    "    2. Categorical Features\n",
    "    3. Numerical Features\n",
    "5. Q1: Defining Next-Day Retention Rate\n",
    "6. Q2: Evaluating a Hypothetical Claim\n",
    "7. Q3: Investigating Metric Difference & Experimental Design\n",
    "    1. Investigating Metric Difference\n",
    "    2. Experimental Design"
   ]
  },
  {
   "cell_type": "markdown",
   "metadata": {},
   "source": [
    "### Import Libraries <a name=\"import_libraries\"></a>"
   ]
  },
  {
   "cell_type": "code",
   "execution_count": 2,
   "metadata": {},
   "outputs": [],
   "source": [
    "import numpy as np\n",
    "import pandas as pd\n",
    "import seaborn as sns\n",
    "import matplotlib.pyplot as plt\n",
    "%matplotlib inline\n",
    "import scipy.stats as stats\n",
    "import datetime as dt"
   ]
  },
  {
   "cell_type": "markdown",
   "metadata": {},
   "source": [
    "### Import Data <a name=\"import_data\"></a>\n",
    "\n",
    "First let's import our data. We have two datasets to explore: **Users** and **Ratings**"
   ]
  },
  {
   "cell_type": "code",
   "execution_count": 3,
   "metadata": {},
   "outputs": [],
   "source": [
    "# import users df\n",
    "users = pd.read_csv('datingapp_data/users.csv')\n",
    "\n",
    "# import ratings df\n",
    "ratings = pd.read_csv('datingapp_data/ratings.csv')"
   ]
  },
  {
   "cell_type": "code",
   "execution_count": 4,
   "metadata": {},
   "outputs": [
    {
     "name": "stdout",
     "output_type": "stream",
     "text": [
      "Count of Unique Users: 111724\n",
      "<class 'pandas.core.frame.DataFrame'>\n",
      "RangeIndex: 111724 entries, 0 to 111723\n",
      "Data columns (total 24 columns):\n",
      "user_id                  111724 non-null int64\n",
      "platform                 111724 non-null object\n",
      "registration_ts          111724 non-null object\n",
      "profile_completion_ts    111724 non-null object\n",
      "gender                   111723 non-null float64\n",
      "gender_preference        111574 non-null float64\n",
      "photos_count             111724 non-null int64\n",
      "max_distance             111624 non-null float64\n",
      "metro_area               111724 non-null int64\n",
      "age                      111724 non-null int64\n",
      "age_pref_max             111622 non-null float64\n",
      "age_pref_min             111622 non-null float64\n",
      "age_strict               111621 non-null float64\n",
      "height                   111713 non-null float64\n",
      "height_pref_max          111591 non-null float64\n",
      "height_pref_min          111591 non-null float64\n",
      "height_strict            111591 non-null float64\n",
      "education_attained       111722 non-null float64\n",
      "dogs                     111722 non-null float64\n",
      "cats                     103985 non-null float64\n",
      "hobby1                   111724 non-null int64\n",
      "hobby2                   111724 non-null int64\n",
      "hobby3                   111724 non-null int64\n",
      "hobby4                   111724 non-null int64\n",
      "dtypes: float64(13), int64(8), object(3)\n",
      "memory usage: 20.5+ MB\n"
     ]
    }
   ],
   "source": [
    "# preview data in Users\n",
    "print(\"Count of Unique Users:\", len(users.user_id.unique())) # quick confirmation of # unique users\n",
    "\n",
    "users.info() # note that some users contain nulls for certain features"
   ]
  },
  {
   "cell_type": "code",
   "execution_count": 5,
   "metadata": {},
   "outputs": [
    {
     "data": {
      "text/html": [
       "<div>\n",
       "<style scoped>\n",
       "    .dataframe tbody tr th:only-of-type {\n",
       "        vertical-align: middle;\n",
       "    }\n",
       "\n",
       "    .dataframe tbody tr th {\n",
       "        vertical-align: top;\n",
       "    }\n",
       "\n",
       "    .dataframe thead th {\n",
       "        text-align: right;\n",
       "    }\n",
       "</style>\n",
       "<table border=\"1\" class=\"dataframe\">\n",
       "  <thead>\n",
       "    <tr style=\"text-align: right;\">\n",
       "      <th></th>\n",
       "      <th>user_id</th>\n",
       "      <th>platform</th>\n",
       "      <th>registration_ts</th>\n",
       "      <th>profile_completion_ts</th>\n",
       "      <th>gender</th>\n",
       "      <th>gender_preference</th>\n",
       "      <th>photos_count</th>\n",
       "      <th>max_distance</th>\n",
       "      <th>metro_area</th>\n",
       "      <th>age</th>\n",
       "      <th>...</th>\n",
       "      <th>height_pref_max</th>\n",
       "      <th>height_pref_min</th>\n",
       "      <th>height_strict</th>\n",
       "      <th>education_attained</th>\n",
       "      <th>dogs</th>\n",
       "      <th>cats</th>\n",
       "      <th>hobby1</th>\n",
       "      <th>hobby2</th>\n",
       "      <th>hobby3</th>\n",
       "      <th>hobby4</th>\n",
       "    </tr>\n",
       "  </thead>\n",
       "  <tbody>\n",
       "    <tr>\n",
       "      <td>0</td>\n",
       "      <td>59758</td>\n",
       "      <td>Android</td>\n",
       "      <td>2018-10-19 11:46:12</td>\n",
       "      <td>2018-10-19 11:55:46</td>\n",
       "      <td>0.0</td>\n",
       "      <td>2.0</td>\n",
       "      <td>5</td>\n",
       "      <td>14.0</td>\n",
       "      <td>0</td>\n",
       "      <td>19</td>\n",
       "      <td>...</td>\n",
       "      <td>214.0</td>\n",
       "      <td>92.0</td>\n",
       "      <td>0.0</td>\n",
       "      <td>0.0</td>\n",
       "      <td>0.0</td>\n",
       "      <td>3.0</td>\n",
       "      <td>0</td>\n",
       "      <td>0</td>\n",
       "      <td>0</td>\n",
       "      <td>1</td>\n",
       "    </tr>\n",
       "    <tr>\n",
       "      <td>1</td>\n",
       "      <td>65302</td>\n",
       "      <td>iOS</td>\n",
       "      <td>2018-10-23 15:49:03</td>\n",
       "      <td>2018-10-23 15:57:18</td>\n",
       "      <td>1.0</td>\n",
       "      <td>0.0</td>\n",
       "      <td>5</td>\n",
       "      <td>40.0</td>\n",
       "      <td>2</td>\n",
       "      <td>34</td>\n",
       "      <td>...</td>\n",
       "      <td>214.0</td>\n",
       "      <td>180.0</td>\n",
       "      <td>1.0</td>\n",
       "      <td>0.0</td>\n",
       "      <td>2.0</td>\n",
       "      <td>0.0</td>\n",
       "      <td>0</td>\n",
       "      <td>0</td>\n",
       "      <td>0</td>\n",
       "      <td>1</td>\n",
       "    </tr>\n",
       "    <tr>\n",
       "      <td>2</td>\n",
       "      <td>91558</td>\n",
       "      <td>Android</td>\n",
       "      <td>2018-10-26 09:16:35</td>\n",
       "      <td>2018-10-26 09:21:13</td>\n",
       "      <td>0.0</td>\n",
       "      <td>1.0</td>\n",
       "      <td>5</td>\n",
       "      <td>50.0</td>\n",
       "      <td>57</td>\n",
       "      <td>23</td>\n",
       "      <td>...</td>\n",
       "      <td>184.0</td>\n",
       "      <td>166.0</td>\n",
       "      <td>0.0</td>\n",
       "      <td>0.0</td>\n",
       "      <td>2.0</td>\n",
       "      <td>3.0</td>\n",
       "      <td>0</td>\n",
       "      <td>0</td>\n",
       "      <td>0</td>\n",
       "      <td>0</td>\n",
       "    </tr>\n",
       "    <tr>\n",
       "      <td>3</td>\n",
       "      <td>203292</td>\n",
       "      <td>Android</td>\n",
       "      <td>2018-11-05 01:03:21</td>\n",
       "      <td>2018-11-05 01:09:34</td>\n",
       "      <td>0.0</td>\n",
       "      <td>1.0</td>\n",
       "      <td>5</td>\n",
       "      <td>63.0</td>\n",
       "      <td>0</td>\n",
       "      <td>28</td>\n",
       "      <td>...</td>\n",
       "      <td>214.0</td>\n",
       "      <td>92.0</td>\n",
       "      <td>0.0</td>\n",
       "      <td>3.0</td>\n",
       "      <td>2.0</td>\n",
       "      <td>1.0</td>\n",
       "      <td>0</td>\n",
       "      <td>0</td>\n",
       "      <td>0</td>\n",
       "      <td>1</td>\n",
       "    </tr>\n",
       "    <tr>\n",
       "      <td>4</td>\n",
       "      <td>222381</td>\n",
       "      <td>Android</td>\n",
       "      <td>2018-11-12 15:17:46</td>\n",
       "      <td>2018-11-12 15:19:52</td>\n",
       "      <td>0.0</td>\n",
       "      <td>1.0</td>\n",
       "      <td>5</td>\n",
       "      <td>100.0</td>\n",
       "      <td>0</td>\n",
       "      <td>25</td>\n",
       "      <td>...</td>\n",
       "      <td>214.0</td>\n",
       "      <td>92.0</td>\n",
       "      <td>0.0</td>\n",
       "      <td>3.0</td>\n",
       "      <td>0.0</td>\n",
       "      <td>3.0</td>\n",
       "      <td>0</td>\n",
       "      <td>0</td>\n",
       "      <td>0</td>\n",
       "      <td>1</td>\n",
       "    </tr>\n",
       "  </tbody>\n",
       "</table>\n",
       "<p>5 rows × 24 columns</p>\n",
       "</div>"
      ],
      "text/plain": [
       "   user_id platform      registration_ts profile_completion_ts  gender  \\\n",
       "0    59758  Android  2018-10-19 11:46:12   2018-10-19 11:55:46     0.0   \n",
       "1    65302      iOS  2018-10-23 15:49:03   2018-10-23 15:57:18     1.0   \n",
       "2    91558  Android  2018-10-26 09:16:35   2018-10-26 09:21:13     0.0   \n",
       "3   203292  Android  2018-11-05 01:03:21   2018-11-05 01:09:34     0.0   \n",
       "4   222381  Android  2018-11-12 15:17:46   2018-11-12 15:19:52     0.0   \n",
       "\n",
       "   gender_preference  photos_count  max_distance  metro_area  age  ...  \\\n",
       "0                2.0             5          14.0           0   19  ...   \n",
       "1                0.0             5          40.0           2   34  ...   \n",
       "2                1.0             5          50.0          57   23  ...   \n",
       "3                1.0             5          63.0           0   28  ...   \n",
       "4                1.0             5         100.0           0   25  ...   \n",
       "\n",
       "   height_pref_max  height_pref_min  height_strict  education_attained  dogs  \\\n",
       "0            214.0             92.0            0.0                 0.0   0.0   \n",
       "1            214.0            180.0            1.0                 0.0   2.0   \n",
       "2            184.0            166.0            0.0                 0.0   2.0   \n",
       "3            214.0             92.0            0.0                 3.0   2.0   \n",
       "4            214.0             92.0            0.0                 3.0   0.0   \n",
       "\n",
       "   cats  hobby1  hobby2  hobby3  hobby4  \n",
       "0   3.0       0       0       0       1  \n",
       "1   0.0       0       0       0       1  \n",
       "2   3.0       0       0       0       0  \n",
       "3   1.0       0       0       0       1  \n",
       "4   3.0       0       0       0       1  \n",
       "\n",
       "[5 rows x 24 columns]"
      ]
     },
     "execution_count": 5,
     "metadata": {},
     "output_type": "execute_result"
    }
   ],
   "source": [
    "# preview Users\n",
    "users.head()"
   ]
  },
  {
   "cell_type": "code",
   "execution_count": 6,
   "metadata": {},
   "outputs": [
    {
     "name": "stdout",
     "output_type": "stream",
     "text": [
      "Count of Unique Users in Ratings Table: 110880\n",
      "<class 'pandas.core.frame.DataFrame'>\n",
      "RangeIndex: 18517862 entries, 0 to 18517861\n",
      "Data columns (total 4 columns):\n",
      "user_id        int64\n",
      "rating_type    int64\n",
      "ts_minute      object\n",
      "ct             int64\n",
      "dtypes: int64(3), object(1)\n",
      "memory usage: 565.1+ MB\n"
     ]
    }
   ],
   "source": [
    "# preview data in Ratings\n",
    "print(\"Count of Unique Users in Ratings Table:\", len(ratings.user_id.unique())) # quick confirmation of # unique users\n",
    "\n",
    "ratings.info()"
   ]
  },
  {
   "cell_type": "code",
   "execution_count": 7,
   "metadata": {
    "scrolled": true
   },
   "outputs": [
    {
     "data": {
      "text/html": [
       "<div>\n",
       "<style scoped>\n",
       "    .dataframe tbody tr th:only-of-type {\n",
       "        vertical-align: middle;\n",
       "    }\n",
       "\n",
       "    .dataframe tbody tr th {\n",
       "        vertical-align: top;\n",
       "    }\n",
       "\n",
       "    .dataframe thead th {\n",
       "        text-align: right;\n",
       "    }\n",
       "</style>\n",
       "<table border=\"1\" class=\"dataframe\">\n",
       "  <thead>\n",
       "    <tr style=\"text-align: right;\">\n",
       "      <th></th>\n",
       "      <th>user_id</th>\n",
       "      <th>rating_type</th>\n",
       "      <th>ts_minute</th>\n",
       "      <th>ct</th>\n",
       "    </tr>\n",
       "  </thead>\n",
       "  <tbody>\n",
       "    <tr>\n",
       "      <td>0</td>\n",
       "      <td>5100</td>\n",
       "      <td>1</td>\n",
       "      <td>2018-10-15 01:55:00</td>\n",
       "      <td>1</td>\n",
       "    </tr>\n",
       "    <tr>\n",
       "      <td>1</td>\n",
       "      <td>5088</td>\n",
       "      <td>1</td>\n",
       "      <td>2018-10-15 02:08:00</td>\n",
       "      <td>3</td>\n",
       "    </tr>\n",
       "    <tr>\n",
       "      <td>2</td>\n",
       "      <td>5095</td>\n",
       "      <td>0</td>\n",
       "      <td>2018-10-15 02:25:00</td>\n",
       "      <td>6</td>\n",
       "    </tr>\n",
       "    <tr>\n",
       "      <td>3</td>\n",
       "      <td>5095</td>\n",
       "      <td>1</td>\n",
       "      <td>2018-10-15 02:40:00</td>\n",
       "      <td>1</td>\n",
       "    </tr>\n",
       "    <tr>\n",
       "      <td>4</td>\n",
       "      <td>5095</td>\n",
       "      <td>0</td>\n",
       "      <td>2018-10-15 03:13:00</td>\n",
       "      <td>8</td>\n",
       "    </tr>\n",
       "  </tbody>\n",
       "</table>\n",
       "</div>"
      ],
      "text/plain": [
       "   user_id  rating_type            ts_minute  ct\n",
       "0     5100            1  2018-10-15 01:55:00   1\n",
       "1     5088            1  2018-10-15 02:08:00   3\n",
       "2     5095            0  2018-10-15 02:25:00   6\n",
       "3     5095            1  2018-10-15 02:40:00   1\n",
       "4     5095            0  2018-10-15 03:13:00   8"
      ]
     },
     "execution_count": 7,
     "metadata": {},
     "output_type": "execute_result"
    }
   ],
   "source": [
    "# preview Ratings\n",
    "ratings.head()"
   ]
  },
  {
   "cell_type": "code",
   "execution_count": 18,
   "metadata": {},
   "outputs": [
    {
     "data": {
      "text/plain": [
       "False"
      ]
     },
     "execution_count": 18,
     "metadata": {},
     "output_type": "execute_result"
    }
   ],
   "source": [
    "# confirm no nulls\n",
    "ratings.isnull().values.any()"
   ]
  },
  {
   "cell_type": "markdown",
   "metadata": {},
   "source": [
    "We have 111,724 unique app users in the `users` table and 110,880 are present in `ratings`. Presumably users whom are present in our `users` table but not in `ratings` are users who registered for the app but never performed any ratings...something we'll have to keep in mind for later."
   ]
  },
  {
   "cell_type": "markdown",
   "metadata": {},
   "source": [
    "### Data Preprocessing <a name=\"data_prep\"></a>\n",
    "\n",
    "Before getting into any analysis, let's ensure our data is cleaned and in proper shape. First let's fix some data types, particularly our datetime features."
   ]
  },
  {
   "cell_type": "code",
   "execution_count": 19,
   "metadata": {},
   "outputs": [],
   "source": [
    "# fix datetime features\n",
    "users['registration_ts'] = pd.to_datetime(users['registration_ts'])\n",
    "users['profile_completion_ts'] = pd.to_datetime(users['profile_completion_ts'])\n",
    "ratings['ts_minute'] = pd.to_datetime(ratings['ts_minute'])"
   ]
  },
  {
   "cell_type": "markdown",
   "metadata": {},
   "source": [
    "Let's now aggregate `ratings` to the user-date level as it doesn't appear like ratings granular to the minute will be useful in our analysis that follows. Aside from being easier to work with, this reduces the total records in `ratings` from 18.5M to 1.7M and will make subsequent joining less taxing."
   ]
  },
  {
   "cell_type": "code",
   "execution_count": 20,
   "metadata": {},
   "outputs": [
    {
     "data": {
      "text/html": [
       "<div>\n",
       "<style scoped>\n",
       "    .dataframe tbody tr th:only-of-type {\n",
       "        vertical-align: middle;\n",
       "    }\n",
       "\n",
       "    .dataframe tbody tr th {\n",
       "        vertical-align: top;\n",
       "    }\n",
       "\n",
       "    .dataframe thead th {\n",
       "        text-align: right;\n",
       "    }\n",
       "</style>\n",
       "<table border=\"1\" class=\"dataframe\">\n",
       "  <thead>\n",
       "    <tr style=\"text-align: right;\">\n",
       "      <th></th>\n",
       "      <th>user_id</th>\n",
       "      <th>rating_type</th>\n",
       "      <th>ts_date</th>\n",
       "      <th>ct</th>\n",
       "    </tr>\n",
       "  </thead>\n",
       "  <tbody>\n",
       "    <tr>\n",
       "      <td>0</td>\n",
       "      <td>1</td>\n",
       "      <td>0</td>\n",
       "      <td>2018-10-20</td>\n",
       "      <td>31</td>\n",
       "    </tr>\n",
       "    <tr>\n",
       "      <td>1</td>\n",
       "      <td>1</td>\n",
       "      <td>0</td>\n",
       "      <td>2018-10-21</td>\n",
       "      <td>31</td>\n",
       "    </tr>\n",
       "    <tr>\n",
       "      <td>2</td>\n",
       "      <td>1</td>\n",
       "      <td>0</td>\n",
       "      <td>2018-10-23</td>\n",
       "      <td>9</td>\n",
       "    </tr>\n",
       "    <tr>\n",
       "      <td>3</td>\n",
       "      <td>1</td>\n",
       "      <td>0</td>\n",
       "      <td>2018-10-24</td>\n",
       "      <td>2</td>\n",
       "    </tr>\n",
       "    <tr>\n",
       "      <td>4</td>\n",
       "      <td>1</td>\n",
       "      <td>0</td>\n",
       "      <td>2018-10-25</td>\n",
       "      <td>96</td>\n",
       "    </tr>\n",
       "    <tr>\n",
       "      <td>...</td>\n",
       "      <td>...</td>\n",
       "      <td>...</td>\n",
       "      <td>...</td>\n",
       "      <td>...</td>\n",
       "    </tr>\n",
       "    <tr>\n",
       "      <td>1721083</td>\n",
       "      <td>248753</td>\n",
       "      <td>1</td>\n",
       "      <td>2018-11-12</td>\n",
       "      <td>5</td>\n",
       "    </tr>\n",
       "    <tr>\n",
       "      <td>1721084</td>\n",
       "      <td>248753</td>\n",
       "      <td>1</td>\n",
       "      <td>2018-11-13</td>\n",
       "      <td>1</td>\n",
       "    </tr>\n",
       "    <tr>\n",
       "      <td>1721085</td>\n",
       "      <td>248753</td>\n",
       "      <td>1</td>\n",
       "      <td>2018-11-14</td>\n",
       "      <td>1</td>\n",
       "    </tr>\n",
       "    <tr>\n",
       "      <td>1721086</td>\n",
       "      <td>248753</td>\n",
       "      <td>1</td>\n",
       "      <td>2018-11-15</td>\n",
       "      <td>2</td>\n",
       "    </tr>\n",
       "    <tr>\n",
       "      <td>1721087</td>\n",
       "      <td>248753</td>\n",
       "      <td>1</td>\n",
       "      <td>2018-11-16</td>\n",
       "      <td>5</td>\n",
       "    </tr>\n",
       "  </tbody>\n",
       "</table>\n",
       "<p>1721088 rows × 4 columns</p>\n",
       "</div>"
      ],
      "text/plain": [
       "         user_id  rating_type    ts_date  ct\n",
       "0              1            0 2018-10-20  31\n",
       "1              1            0 2018-10-21  31\n",
       "2              1            0 2018-10-23   9\n",
       "3              1            0 2018-10-24   2\n",
       "4              1            0 2018-10-25  96\n",
       "...          ...          ...        ...  ..\n",
       "1721083   248753            1 2018-11-12   5\n",
       "1721084   248753            1 2018-11-13   1\n",
       "1721085   248753            1 2018-11-14   1\n",
       "1721086   248753            1 2018-11-15   2\n",
       "1721087   248753            1 2018-11-16   5\n",
       "\n",
       "[1721088 rows x 4 columns]"
      ]
     },
     "execution_count": 20,
     "metadata": {},
     "output_type": "execute_result"
    }
   ],
   "source": [
    "# aggregate ratings to user-ratingtype-date level\n",
    "ratings_agg = ratings.groupby([ratings.user_id, ratings.rating_type, ratings.ts_minute.dt.date]).sum().reset_index()\n",
    "\n",
    "# quick column rename\n",
    "ratings_agg = ratings_agg.rename(columns={'ts_minute':'ts_date'})\n",
    "ratings_agg['ts_date'] = pd.to_datetime(ratings_agg['ts_date'])\n",
    "\n",
    "ratings_agg"
   ]
  },
  {
   "cell_type": "markdown",
   "metadata": {},
   "source": [
    "Next, let's join our `users` table onto `ratings` so that we can understand how user-specific information might impact their rating behavior."
   ]
  },
  {
   "cell_type": "code",
   "execution_count": 24,
   "metadata": {
    "scrolled": true
   },
   "outputs": [
    {
     "data": {
      "text/html": [
       "<div>\n",
       "<style scoped>\n",
       "    .dataframe tbody tr th:only-of-type {\n",
       "        vertical-align: middle;\n",
       "    }\n",
       "\n",
       "    .dataframe tbody tr th {\n",
       "        vertical-align: top;\n",
       "    }\n",
       "\n",
       "    .dataframe thead th {\n",
       "        text-align: right;\n",
       "    }\n",
       "</style>\n",
       "<table border=\"1\" class=\"dataframe\">\n",
       "  <thead>\n",
       "    <tr style=\"text-align: right;\">\n",
       "      <th></th>\n",
       "      <th>user_id</th>\n",
       "      <th>rating_type</th>\n",
       "      <th>ts_date</th>\n",
       "      <th>ct</th>\n",
       "      <th>platform</th>\n",
       "      <th>registration_ts</th>\n",
       "      <th>profile_completion_ts</th>\n",
       "      <th>gender</th>\n",
       "      <th>gender_preference</th>\n",
       "      <th>photos_count</th>\n",
       "      <th>...</th>\n",
       "      <th>height_pref_max</th>\n",
       "      <th>height_pref_min</th>\n",
       "      <th>height_strict</th>\n",
       "      <th>education_attained</th>\n",
       "      <th>dogs</th>\n",
       "      <th>cats</th>\n",
       "      <th>hobby1</th>\n",
       "      <th>hobby2</th>\n",
       "      <th>hobby3</th>\n",
       "      <th>hobby4</th>\n",
       "    </tr>\n",
       "  </thead>\n",
       "  <tbody>\n",
       "    <tr>\n",
       "      <td>0</td>\n",
       "      <td>1</td>\n",
       "      <td>0</td>\n",
       "      <td>2018-10-20</td>\n",
       "      <td>31</td>\n",
       "      <td>iOS</td>\n",
       "      <td>2018-10-20 01:43:20</td>\n",
       "      <td>2018-10-20 01:51:04</td>\n",
       "      <td>0.0</td>\n",
       "      <td>1.0</td>\n",
       "      <td>5</td>\n",
       "      <td>...</td>\n",
       "      <td>214.0</td>\n",
       "      <td>92.0</td>\n",
       "      <td>0.0</td>\n",
       "      <td>1.0</td>\n",
       "      <td>2.0</td>\n",
       "      <td>0.0</td>\n",
       "      <td>0</td>\n",
       "      <td>0</td>\n",
       "      <td>0</td>\n",
       "      <td>1</td>\n",
       "    </tr>\n",
       "    <tr>\n",
       "      <td>1</td>\n",
       "      <td>1</td>\n",
       "      <td>0</td>\n",
       "      <td>2018-10-21</td>\n",
       "      <td>31</td>\n",
       "      <td>iOS</td>\n",
       "      <td>2018-10-20 01:43:20</td>\n",
       "      <td>2018-10-20 01:51:04</td>\n",
       "      <td>0.0</td>\n",
       "      <td>1.0</td>\n",
       "      <td>5</td>\n",
       "      <td>...</td>\n",
       "      <td>214.0</td>\n",
       "      <td>92.0</td>\n",
       "      <td>0.0</td>\n",
       "      <td>1.0</td>\n",
       "      <td>2.0</td>\n",
       "      <td>0.0</td>\n",
       "      <td>0</td>\n",
       "      <td>0</td>\n",
       "      <td>0</td>\n",
       "      <td>1</td>\n",
       "    </tr>\n",
       "    <tr>\n",
       "      <td>2</td>\n",
       "      <td>1</td>\n",
       "      <td>0</td>\n",
       "      <td>2018-10-23</td>\n",
       "      <td>9</td>\n",
       "      <td>iOS</td>\n",
       "      <td>2018-10-20 01:43:20</td>\n",
       "      <td>2018-10-20 01:51:04</td>\n",
       "      <td>0.0</td>\n",
       "      <td>1.0</td>\n",
       "      <td>5</td>\n",
       "      <td>...</td>\n",
       "      <td>214.0</td>\n",
       "      <td>92.0</td>\n",
       "      <td>0.0</td>\n",
       "      <td>1.0</td>\n",
       "      <td>2.0</td>\n",
       "      <td>0.0</td>\n",
       "      <td>0</td>\n",
       "      <td>0</td>\n",
       "      <td>0</td>\n",
       "      <td>1</td>\n",
       "    </tr>\n",
       "    <tr>\n",
       "      <td>3</td>\n",
       "      <td>1</td>\n",
       "      <td>0</td>\n",
       "      <td>2018-10-24</td>\n",
       "      <td>2</td>\n",
       "      <td>iOS</td>\n",
       "      <td>2018-10-20 01:43:20</td>\n",
       "      <td>2018-10-20 01:51:04</td>\n",
       "      <td>0.0</td>\n",
       "      <td>1.0</td>\n",
       "      <td>5</td>\n",
       "      <td>...</td>\n",
       "      <td>214.0</td>\n",
       "      <td>92.0</td>\n",
       "      <td>0.0</td>\n",
       "      <td>1.0</td>\n",
       "      <td>2.0</td>\n",
       "      <td>0.0</td>\n",
       "      <td>0</td>\n",
       "      <td>0</td>\n",
       "      <td>0</td>\n",
       "      <td>1</td>\n",
       "    </tr>\n",
       "    <tr>\n",
       "      <td>4</td>\n",
       "      <td>1</td>\n",
       "      <td>0</td>\n",
       "      <td>2018-10-25</td>\n",
       "      <td>96</td>\n",
       "      <td>iOS</td>\n",
       "      <td>2018-10-20 01:43:20</td>\n",
       "      <td>2018-10-20 01:51:04</td>\n",
       "      <td>0.0</td>\n",
       "      <td>1.0</td>\n",
       "      <td>5</td>\n",
       "      <td>...</td>\n",
       "      <td>214.0</td>\n",
       "      <td>92.0</td>\n",
       "      <td>0.0</td>\n",
       "      <td>1.0</td>\n",
       "      <td>2.0</td>\n",
       "      <td>0.0</td>\n",
       "      <td>0</td>\n",
       "      <td>0</td>\n",
       "      <td>0</td>\n",
       "      <td>1</td>\n",
       "    </tr>\n",
       "  </tbody>\n",
       "</table>\n",
       "<p>5 rows × 27 columns</p>\n",
       "</div>"
      ],
      "text/plain": [
       "   user_id  rating_type    ts_date  ct platform     registration_ts  \\\n",
       "0        1            0 2018-10-20  31      iOS 2018-10-20 01:43:20   \n",
       "1        1            0 2018-10-21  31      iOS 2018-10-20 01:43:20   \n",
       "2        1            0 2018-10-23   9      iOS 2018-10-20 01:43:20   \n",
       "3        1            0 2018-10-24   2      iOS 2018-10-20 01:43:20   \n",
       "4        1            0 2018-10-25  96      iOS 2018-10-20 01:43:20   \n",
       "\n",
       "  profile_completion_ts  gender  gender_preference  photos_count  ...  \\\n",
       "0   2018-10-20 01:51:04     0.0                1.0             5  ...   \n",
       "1   2018-10-20 01:51:04     0.0                1.0             5  ...   \n",
       "2   2018-10-20 01:51:04     0.0                1.0             5  ...   \n",
       "3   2018-10-20 01:51:04     0.0                1.0             5  ...   \n",
       "4   2018-10-20 01:51:04     0.0                1.0             5  ...   \n",
       "\n",
       "   height_pref_max  height_pref_min  height_strict  education_attained  dogs  \\\n",
       "0            214.0             92.0            0.0                 1.0   2.0   \n",
       "1            214.0             92.0            0.0                 1.0   2.0   \n",
       "2            214.0             92.0            0.0                 1.0   2.0   \n",
       "3            214.0             92.0            0.0                 1.0   2.0   \n",
       "4            214.0             92.0            0.0                 1.0   2.0   \n",
       "\n",
       "   cats  hobby1  hobby2  hobby3  hobby4  \n",
       "0   0.0       0       0       0       1  \n",
       "1   0.0       0       0       0       1  \n",
       "2   0.0       0       0       0       1  \n",
       "3   0.0       0       0       0       1  \n",
       "4   0.0       0       0       0       1  \n",
       "\n",
       "[5 rows x 27 columns]"
      ]
     },
     "execution_count": 24,
     "metadata": {},
     "output_type": "execute_result"
    }
   ],
   "source": [
    "# perform an inner join on user_id (will return data for users present in both tables)\n",
    "user_ratings = pd.merge(left = ratings_agg, \n",
    "                        right = users, \n",
    "                        how = 'inner', \n",
    "                        on = 'user_id')\n",
    "\n",
    "# preview\n",
    "user_ratings.head()"
   ]
  },
  {
   "cell_type": "markdown",
   "metadata": {},
   "source": [
    "### Quick EDA & Data Cleansing <a name=\"eda\"></a>\n",
    "\n",
    "Before moving on with our joint dataset, let's quickly explore our features to get a high-level understanding of what we're working with and to see if there's any additional data cleaning required."
   ]
  },
  {
   "cell_type": "markdown",
   "metadata": {},
   "source": [
    "#### Date Features <a name=\"dates\"></a>\n",
    "\n",
    "Our data contains records for users who registered over a 1-month period from `2018-10-15` to `2018-11-14`, along with accompanying ratings data spanning from `2018-10-15` to `2018-11-17`."
   ]
  },
  {
   "cell_type": "code",
   "execution_count": 11,
   "metadata": {},
   "outputs": [
    {
     "name": "stdout",
     "output_type": "stream",
     "text": [
      "Timeframe of User Registrations: 2018-10-15 00:00:48 - 2018-11-14 23:59:14\n",
      "Timeframe of User Ratings: 2018-10-15 00:00:00 - 2018-11-17 00:00:00\n"
     ]
    }
   ],
   "source": [
    "print(\"Timeframe of User Registrations:\", user_ratings['registration_ts'].min(), \"-\", user_ratings['registration_ts'].max())\n",
    "\n",
    "print(\"Timeframe of User Ratings:\", user_ratings['ts_date'].min(), \"-\", user_ratings['ts_date'].max())"
   ]
  },
  {
   "cell_type": "markdown",
   "metadata": {},
   "source": [
    "#### Categorical Features <a name=\"cats\"></a>\n",
    "\n",
    "Let's take a look at `platform`:"
   ]
  },
  {
   "cell_type": "code",
   "execution_count": 12,
   "metadata": {},
   "outputs": [
    {
     "data": {
      "text/plain": [
       "Android    1046255\n",
       "iOS         668512\n",
       "ios           6192\n",
       "Name: platform, dtype: int64"
      ]
     },
     "execution_count": 12,
     "metadata": {},
     "output_type": "execute_result"
    },
    {
     "data": {
      "image/png": "[encoded data removed]",
      "text/plain": [
       "<Figure size 432x288 with 1 Axes>"
      ]
     },
     "metadata": {
      "needs_background": "light"
     },
     "output_type": "display_data"
    }
   ],
   "source": [
    "# let's explore platform\n",
    "sns.countplot(user_ratings['platform'], palette = 'viridis')\n",
    "\n",
    "user_ratings['platform'].value_counts()"
   ]
  },
  {
   "cell_type": "markdown",
   "metadata": {},
   "source": [
    "We find that some users have been classified as \"ios\" instead of \"iOS\". Let's consolidate this..."
   ]
  },
  {
   "cell_type": "code",
   "execution_count": 13,
   "metadata": {},
   "outputs": [
    {
     "data": {
      "text/plain": [
       "Android    1046255\n",
       "iOS         674704\n",
       "Name: platform, dtype: int64"
      ]
     },
     "execution_count": 13,
     "metadata": {},
     "output_type": "execute_result"
    }
   ],
   "source": [
    "users = users.assign(platform = ['iOS' if platform == 'ios' else platform for platform in users['platform']])\n",
    "user_ratings = user_ratings.assign(platform = ['iOS' if platform == 'ios' else platform for platform in user_ratings['platform']])\n",
    "\n",
    "user_ratings['platform'].value_counts() # updated"
   ]
  },
  {
   "cell_type": "markdown",
   "metadata": {},
   "source": [
    "We continue exploring a few other features but don't find anything too alarming. A few quick-hitter findings are listed below:\n",
    "\n",
    "- About `59.4%` of users are of `Gender 0`\n",
    "- Nearly a quarter (`23.6%`) of users are from a single city (`City 0`), while the top 5 cities represent just over half (`51.5%`) our users\n",
    "- `87.9%` of users wish to *only* consider users that fall within their stated age preference\n",
    "- Just `18.0%` of users wish to *only* consider users that fall within their stated height preference\n",
    "- `44.8%` of users completed up to `Education 1` (note that levels are not ordinal)"
   ]
  },
  {
   "cell_type": "code",
   "execution_count": 14,
   "metadata": {
    "scrolled": false
   },
   "outputs": [
    {
     "data": {
      "text/plain": [
       "0.0    0.59379\n",
       "1.0    0.40621\n",
       "Name: gender, dtype: float64"
      ]
     },
     "metadata": {},
     "output_type": "display_data"
    },
    {
     "data": {
      "text/plain": [
       "0     0.235634\n",
       "39    0.100381\n",
       "27    0.083035\n",
       "28    0.054876\n",
       "6     0.040752\n",
       "        ...   \n",
       "73    0.000009\n",
       "74    0.000009\n",
       "65    0.000009\n",
       "77    0.000009\n",
       "62    0.000009\n",
       "Name: metro_area, Length: 73, dtype: float64"
      ]
     },
     "metadata": {},
     "output_type": "display_data"
    },
    {
     "data": {
      "text/plain": [
       "1.0    0.879386\n",
       "0.0    0.120614\n",
       "Name: age_strict, dtype: float64"
      ]
     },
     "metadata": {},
     "output_type": "display_data"
    },
    {
     "data": {
      "text/plain": [
       "0.0    0.819869\n",
       "1.0    0.180131\n",
       "Name: height_strict, dtype: float64"
      ]
     },
     "metadata": {},
     "output_type": "display_data"
    },
    {
     "data": {
      "text/plain": [
       "1.0    0.448417\n",
       "2.0    0.223206\n",
       "3.0    0.200354\n",
       "0.0    0.128023\n",
       "Name: education_attained, dtype: float64"
      ]
     },
     "metadata": {},
     "output_type": "display_data"
    }
   ],
   "source": [
    "# quick exploration of other categorical features\n",
    "    # user gender\n",
    "display(users['gender'].value_counts(normalize = True))\n",
    "\n",
    "    # metro area\n",
    "display(users['metro_area'].value_counts(normalize = True))\n",
    "\n",
    "    # age deal-breaker\n",
    "display(users['age_strict'].value_counts(normalize = True))\n",
    "\n",
    "    # height deal-breaker\n",
    "display(users['height_strict'].value_counts(normalize = True))\n",
    "\n",
    "    # education attained\n",
    "display(users['education_attained'].value_counts(normalize = True))"
   ]
  },
  {
   "cell_type": "markdown",
   "metadata": {},
   "source": [
    "#### Numerical Features <a name=\"nums\"></a>\n",
    "\n",
    "Once again, some quick observations listed below:\n",
    "\n",
    "- Median user age is `26` (note distribution is right skewed due to extreme outlier)\n",
    "- On average users have `4.9` uploaded photos\n",
    "- Average max distance a user is willing to consider is `57.3` miles, though `100` miles is the distance most frequently specified\n",
    "- Average preferred age range is `23 - 37`\n",
    "- App users seem to prefer cats over dogs!"
   ]
  },
  {
   "cell_type": "code",
   "execution_count": 15,
   "metadata": {},
   "outputs": [
    {
     "data": {
      "text/html": [
       "<div>\n",
       "<style scoped>\n",
       "    .dataframe tbody tr th:only-of-type {\n",
       "        vertical-align: middle;\n",
       "    }\n",
       "\n",
       "    .dataframe tbody tr th {\n",
       "        vertical-align: top;\n",
       "    }\n",
       "\n",
       "    .dataframe thead th {\n",
       "        text-align: right;\n",
       "    }\n",
       "</style>\n",
       "<table border=\"1\" class=\"dataframe\">\n",
       "  <thead>\n",
       "    <tr style=\"text-align: right;\">\n",
       "      <th></th>\n",
       "      <th>photos_count</th>\n",
       "      <th>max_distance</th>\n",
       "      <th>age</th>\n",
       "      <th>age_pref_max</th>\n",
       "      <th>age_pref_min</th>\n",
       "      <th>height</th>\n",
       "      <th>height_pref_max</th>\n",
       "      <th>height_pref_min</th>\n",
       "      <th>dogs</th>\n",
       "      <th>cats</th>\n",
       "    </tr>\n",
       "  </thead>\n",
       "  <tbody>\n",
       "    <tr>\n",
       "      <td>count</td>\n",
       "      <td>111724.000000</td>\n",
       "      <td>111624.000000</td>\n",
       "      <td>111724.000000</td>\n",
       "      <td>111622.000000</td>\n",
       "      <td>111622.000000</td>\n",
       "      <td>111713.000000</td>\n",
       "      <td>111591.000000</td>\n",
       "      <td>111591.000000</td>\n",
       "      <td>111722.000000</td>\n",
       "      <td>103985.000000</td>\n",
       "    </tr>\n",
       "    <tr>\n",
       "      <td>mean</td>\n",
       "      <td>4.924331</td>\n",
       "      <td>57.275792</td>\n",
       "      <td>27.611883</td>\n",
       "      <td>37.350406</td>\n",
       "      <td>23.196153</td>\n",
       "      <td>173.607217</td>\n",
       "      <td>207.576937</td>\n",
       "      <td>118.727218</td>\n",
       "      <td>1.092909</td>\n",
       "      <td>2.294139</td>\n",
       "    </tr>\n",
       "    <tr>\n",
       "      <td>std</td>\n",
       "      <td>0.718974</td>\n",
       "      <td>38.704596</td>\n",
       "      <td>7.225031</td>\n",
       "      <td>12.128034</td>\n",
       "      <td>5.779914</td>\n",
       "      <td>10.019123</td>\n",
       "      <td>14.018628</td>\n",
       "      <td>36.740848</td>\n",
       "      <td>1.063952</td>\n",
       "      <td>0.920269</td>\n",
       "    </tr>\n",
       "    <tr>\n",
       "      <td>min</td>\n",
       "      <td>0.000000</td>\n",
       "      <td>0.000000</td>\n",
       "      <td>18.000000</td>\n",
       "      <td>18.000000</td>\n",
       "      <td>18.000000</td>\n",
       "      <td>92.000000</td>\n",
       "      <td>92.000000</td>\n",
       "      <td>92.000000</td>\n",
       "      <td>0.000000</td>\n",
       "      <td>0.000000</td>\n",
       "    </tr>\n",
       "    <tr>\n",
       "      <td>25%</td>\n",
       "      <td>5.000000</td>\n",
       "      <td>20.000000</td>\n",
       "      <td>23.000000</td>\n",
       "      <td>29.000000</td>\n",
       "      <td>19.000000</td>\n",
       "      <td>165.000000</td>\n",
       "      <td>214.000000</td>\n",
       "      <td>92.000000</td>\n",
       "      <td>0.000000</td>\n",
       "      <td>2.000000</td>\n",
       "    </tr>\n",
       "    <tr>\n",
       "      <td>50%</td>\n",
       "      <td>5.000000</td>\n",
       "      <td>50.000000</td>\n",
       "      <td>26.000000</td>\n",
       "      <td>34.000000</td>\n",
       "      <td>22.000000</td>\n",
       "      <td>173.000000</td>\n",
       "      <td>214.000000</td>\n",
       "      <td>92.000000</td>\n",
       "      <td>1.000000</td>\n",
       "      <td>3.000000</td>\n",
       "    </tr>\n",
       "    <tr>\n",
       "      <td>75%</td>\n",
       "      <td>5.000000</td>\n",
       "      <td>100.000000</td>\n",
       "      <td>30.000000</td>\n",
       "      <td>42.000000</td>\n",
       "      <td>26.000000</td>\n",
       "      <td>180.000000</td>\n",
       "      <td>214.000000</td>\n",
       "      <td>159.000000</td>\n",
       "      <td>2.000000</td>\n",
       "      <td>3.000000</td>\n",
       "    </tr>\n",
       "    <tr>\n",
       "      <td>max</td>\n",
       "      <td>9.000000</td>\n",
       "      <td>100.000000</td>\n",
       "      <td>581.000000</td>\n",
       "      <td>65.000000</td>\n",
       "      <td>65.000000</td>\n",
       "      <td>213.000000</td>\n",
       "      <td>214.000000</td>\n",
       "      <td>214.000000</td>\n",
       "      <td>3.000000</td>\n",
       "      <td>3.000000</td>\n",
       "    </tr>\n",
       "  </tbody>\n",
       "</table>\n",
       "</div>"
      ],
      "text/plain": [
       "        photos_count   max_distance            age   age_pref_max  \\\n",
       "count  111724.000000  111624.000000  111724.000000  111622.000000   \n",
       "mean        4.924331      57.275792      27.611883      37.350406   \n",
       "std         0.718974      38.704596       7.225031      12.128034   \n",
       "min         0.000000       0.000000      18.000000      18.000000   \n",
       "25%         5.000000      20.000000      23.000000      29.000000   \n",
       "50%         5.000000      50.000000      26.000000      34.000000   \n",
       "75%         5.000000     100.000000      30.000000      42.000000   \n",
       "max         9.000000     100.000000     581.000000      65.000000   \n",
       "\n",
       "        age_pref_min         height  height_pref_max  height_pref_min  \\\n",
       "count  111622.000000  111713.000000    111591.000000    111591.000000   \n",
       "mean       23.196153     173.607217       207.576937       118.727218   \n",
       "std         5.779914      10.019123        14.018628        36.740848   \n",
       "min        18.000000      92.000000        92.000000        92.000000   \n",
       "25%        19.000000     165.000000       214.000000        92.000000   \n",
       "50%        22.000000     173.000000       214.000000        92.000000   \n",
       "75%        26.000000     180.000000       214.000000       159.000000   \n",
       "max        65.000000     213.000000       214.000000       214.000000   \n",
       "\n",
       "                dogs           cats  \n",
       "count  111722.000000  103985.000000  \n",
       "mean        1.092909       2.294139  \n",
       "std         1.063952       0.920269  \n",
       "min         0.000000       0.000000  \n",
       "25%         0.000000       2.000000  \n",
       "50%         1.000000       3.000000  \n",
       "75%         2.000000       3.000000  \n",
       "max         3.000000       3.000000  "
      ]
     },
     "execution_count": 15,
     "metadata": {},
     "output_type": "execute_result"
    }
   ],
   "source": [
    "# summary stats for user-specific numerical features\n",
    "user_numerics = users[['photos_count','max_distance','age','age_pref_max','age_pref_min',\n",
    "                       'height','height_pref_max','height_pref_min','dogs','cats']]\n",
    "\n",
    "user_numerics.describe() # note missing values for a few vars"
   ]
  },
  {
   "cell_type": "code",
   "execution_count": 16,
   "metadata": {
    "scrolled": false
   },
   "outputs": [
    {
     "data": {
      "image/png": "[encoded data removed]",
      "text/plain": [
       "<Figure size 432x288 with 1 Axes>"
      ]
     },
     "metadata": {
      "needs_background": "light"
     },
     "output_type": "display_data"
    },
    {
     "data": {
      "image/png": "[encoded data removed]",
      "text/plain": [
       "<Figure size 432x288 with 1 Axes>"
      ]
     },
     "metadata": {
      "needs_background": "light"
     },
     "output_type": "display_data"
    },
    {
     "data": {
      "image/png": "[encoded data removed]",
      "text/plain": [
       "<Figure size 432x288 with 1 Axes>"
      ]
     },
     "metadata": {
      "needs_background": "light"
     },
     "output_type": "display_data"
    }
   ],
   "source": [
    "# quick viz of a few user-specific numerical features\n",
    "    # max distance\n",
    "sns.distplot(users['max_distance'].dropna(), color = \"black\")\n",
    "plt.show()\n",
    "\n",
    "    # user age\n",
    "sns.distplot(users['age'], color = \"black\")\n",
    "plt.show() # note extreme outlier 581\n",
    "\n",
    "    # user height\n",
    "sns.distplot(users[users['gender'] == 1]['height'].dropna()) # blue (likely female)\n",
    "sns.distplot(users[users['gender'] == 0]['height'].dropna()) # orange (likely male)\n",
    "plt.show()"
   ]
  },
  {
   "cell_type": "markdown",
   "metadata": {},
   "source": [
    "Finally, let's also take a quick look at our `ct` variable to get some insight into user rating behavior."
   ]
  },
  {
   "cell_type": "code",
   "execution_count": 17,
   "metadata": {},
   "outputs": [
    {
     "data": {
      "image/png": "[encoded data removed]",
      "text/plain": [
       "<Figure size 432x288 with 1 Axes>"
      ]
     },
     "metadata": {
      "needs_background": "light"
     },
     "output_type": "display_data"
    },
    {
     "data": {
      "text/html": [
       "<div>\n",
       "<style scoped>\n",
       "    .dataframe tbody tr th:only-of-type {\n",
       "        vertical-align: middle;\n",
       "    }\n",
       "\n",
       "    .dataframe tbody tr th {\n",
       "        vertical-align: top;\n",
       "    }\n",
       "\n",
       "    .dataframe thead th {\n",
       "        text-align: right;\n",
       "    }\n",
       "</style>\n",
       "<table border=\"1\" class=\"dataframe\">\n",
       "  <thead>\n",
       "    <tr style=\"text-align: right;\">\n",
       "      <th></th>\n",
       "      <th>rating_type</th>\n",
       "      <th>ct</th>\n",
       "    </tr>\n",
       "  </thead>\n",
       "  <tbody>\n",
       "    <tr>\n",
       "      <td>0</td>\n",
       "      <td>0</td>\n",
       "      <td>21</td>\n",
       "    </tr>\n",
       "    <tr>\n",
       "      <td>1</td>\n",
       "      <td>1</td>\n",
       "      <td>5</td>\n",
       "    </tr>\n",
       "  </tbody>\n",
       "</table>\n",
       "</div>"
      ],
      "text/plain": [
       "   rating_type  ct\n",
       "0            0  21\n",
       "1            1   5"
      ]
     },
     "execution_count": 17,
     "metadata": {},
     "output_type": "execute_result"
    }
   ],
   "source": [
    "# here we're plotting the avg daily ratings given per user by rating type (like or skip)\n",
    "    # we'll filter extreme outliers from the plot for viz purposes (note extreme right skewness, uber active users)\n",
    "sns.distplot(user_ratings[(user_ratings['rating_type'] == 0) & (user_ratings['ct'] < 1000)]['ct'].dropna()) # blue (skips)\n",
    "sns.distplot(user_ratings[(user_ratings['rating_type'] == 1) & (user_ratings['ct'] < 1000)]['ct'].dropna()) # orange (likes)\n",
    "plt.show()\n",
    "\n",
    "# aggregate the median # of daily ratings given per user by rating type (like or skip)\n",
    "by_rating_type = user_ratings.groupby(['rating_type'])['ct'].median().reset_index()\n",
    "by_rating_type"
   ]
  },
  {
   "cell_type": "markdown",
   "metadata": {},
   "source": [
    "We observe that the typical app user gives about `5` likes per day and `21` skips. This works out to roughly a `1:4` ratio between likes vs skips for the average user on a given day (i.e., 4 skips for every like)."
   ]
  },
  {
   "cell_type": "markdown",
   "metadata": {},
   "source": [
    "### Q1) Defining Next-Day Retention Rate <a name=\"q1\"></a>\n",
    "\n",
    "**Using the data available, how would you define next-day retention rate of new users? State your definition in a way that someone else can compute the metric unambiguously.**"
   ]
  },
  {
   "cell_type": "markdown",
   "metadata": {},
   "source": [
    "In order to define our *next-day retention rate* metric, there are a couple assumptions we must specify upfront.\n",
    "\n",
    "1) The first thing to note is that we're seeking to evaluate this metric for **new users**. We'll define a user as being *new* based on when they **first registered for the app**, hence we'll use `registration_ts` to mark a user's first official day on the app.\n",
    "\n",
    "2) Next, we must determine what qualifies as *successful* retention. *Retention* implies that the user is returning to the app and continuing their activity on the app in some fashion. Considering the data we have at our disposal, I think it's most reasonable for us to define someone being **active** on the app when they have **any rating activity (i.e., at least 1 skip or like) that day**. \n",
    "\n",
    "While I believe this is reasonable, note that there are several ways we could have tinkered our definition of *active*:\n",
    "- User performed some other action on the app (e.g., logging on, profile edits, etc.)...we don't have this data in this scenario\n",
    "- User sent a like (i.e., only `rating_type = 1`)\n",
    "- User reached some threshold for minimum ratings (e.g., at least 10 total ratings given)\n",
    "\n",
    "<br>\n",
    "\n",
    "With these assumptions stated, we can define our `next-day retention rate` as the simple proportion that follows:\n",
    "\n",
    "<br>\n",
    "\n",
    "<center><i> # of users active the day after registration / # of new users </i></center>"
   ]
  },
  {
   "cell_type": "markdown",
   "metadata": {},
   "source": [
    "Let's now go ahead with computing our metric."
   ]
  },
  {
   "cell_type": "code",
   "execution_count": 18,
   "metadata": {},
   "outputs": [
    {
     "data": {
      "text/html": [
       "<div>\n",
       "<style scoped>\n",
       "    .dataframe tbody tr th:only-of-type {\n",
       "        vertical-align: middle;\n",
       "    }\n",
       "\n",
       "    .dataframe tbody tr th {\n",
       "        vertical-align: top;\n",
       "    }\n",
       "\n",
       "    .dataframe thead th {\n",
       "        text-align: right;\n",
       "    }\n",
       "</style>\n",
       "<table border=\"1\" class=\"dataframe\">\n",
       "  <thead>\n",
       "    <tr style=\"text-align: right;\">\n",
       "      <th></th>\n",
       "      <th>user_id</th>\n",
       "      <th>post_reg_active</th>\n",
       "    </tr>\n",
       "  </thead>\n",
       "  <tbody>\n",
       "    <tr>\n",
       "      <td>1</td>\n",
       "      <td>1</td>\n",
       "      <td>2018-10-21</td>\n",
       "    </tr>\n",
       "    <tr>\n",
       "      <td>49</td>\n",
       "      <td>3</td>\n",
       "      <td>2018-11-14</td>\n",
       "    </tr>\n",
       "    <tr>\n",
       "      <td>57</td>\n",
       "      <td>4</td>\n",
       "      <td>2018-10-25</td>\n",
       "    </tr>\n",
       "    <tr>\n",
       "      <td>72</td>\n",
       "      <td>5</td>\n",
       "      <td>2018-11-15</td>\n",
       "    </tr>\n",
       "    <tr>\n",
       "      <td>80</td>\n",
       "      <td>7</td>\n",
       "      <td>2018-10-30</td>\n",
       "    </tr>\n",
       "    <tr>\n",
       "      <td>...</td>\n",
       "      <td>...</td>\n",
       "      <td>...</td>\n",
       "    </tr>\n",
       "    <tr>\n",
       "      <td>1720810</td>\n",
       "      <td>248740</td>\n",
       "      <td>2018-11-08</td>\n",
       "    </tr>\n",
       "    <tr>\n",
       "      <td>1720830</td>\n",
       "      <td>248741</td>\n",
       "      <td>2018-11-08</td>\n",
       "    </tr>\n",
       "    <tr>\n",
       "      <td>1720844</td>\n",
       "      <td>248746</td>\n",
       "      <td>2018-10-24</td>\n",
       "    </tr>\n",
       "    <tr>\n",
       "      <td>1720877</td>\n",
       "      <td>248748</td>\n",
       "      <td>2018-10-22</td>\n",
       "    </tr>\n",
       "    <tr>\n",
       "      <td>1720916</td>\n",
       "      <td>248753</td>\n",
       "      <td>2018-10-27</td>\n",
       "    </tr>\n",
       "  </tbody>\n",
       "</table>\n",
       "<p>99377 rows × 2 columns</p>\n",
       "</div>"
      ],
      "text/plain": [
       "         user_id post_reg_active\n",
       "1              1      2018-10-21\n",
       "49             3      2018-11-14\n",
       "57             4      2018-10-25\n",
       "72             5      2018-11-15\n",
       "80             7      2018-10-30\n",
       "...          ...             ...\n",
       "1720810   248740      2018-11-08\n",
       "1720830   248741      2018-11-08\n",
       "1720844   248746      2018-10-24\n",
       "1720877   248748      2018-10-22\n",
       "1720916   248753      2018-10-27\n",
       "\n",
       "[99377 rows x 2 columns]"
      ]
     },
     "execution_count": 18,
     "metadata": {},
     "output_type": "execute_result"
    }
   ],
   "source": [
    "## STEP 1: let's identify each user's first active date POST-registration\n",
    "\n",
    "    # filter out cases where rating activity occurs on date of registration\n",
    "user_ratings_filt = user_ratings[user_ratings.ts_date != user_ratings.registration_ts.dt.date][['user_id','ts_date']]\n",
    "\n",
    "    # now let's aggregate by user, only keeping their earliest ratings ts_date (post_registration)\n",
    "post_reg_activity = user_ratings_filt.loc[user_ratings_filt.groupby('user_id')['ts_date'].idxmin()]\n",
    "\n",
    "    # rename column accordingly\n",
    "post_reg_activity = post_reg_activity.rename(columns={'ts_date':'post_reg_active'})\n",
    "        # note that rating type doesn't matter in the calculation of our metric; we simply want a single record\n",
    "        # per user with their earliest post-registration 'active' date (regardless of the rating type)\n",
    "\n",
    "    # preview\n",
    "post_reg_activity\n",
    "    # observe that we've obtained a single line per user"
   ]
  },
  {
   "cell_type": "markdown",
   "metadata": {},
   "source": [
    "Now, it's critical to remember that there are two general cases a customer can fall into:\n",
    "\n",
    "1. User is only active on the app the day they register and never return\n",
    "2. User returns at some point after their registration date\n",
    "    \n",
    "Step 1 above **only** evaluates `post_reg_active` date for users who used the app after their registration date (case 2). We still must consider our case 1 users..."
   ]
  },
  {
   "cell_type": "code",
   "execution_count": 19,
   "metadata": {},
   "outputs": [
    {
     "data": {
      "text/html": [
       "<div>\n",
       "<style scoped>\n",
       "    .dataframe tbody tr th:only-of-type {\n",
       "        vertical-align: middle;\n",
       "    }\n",
       "\n",
       "    .dataframe tbody tr th {\n",
       "        vertical-align: top;\n",
       "    }\n",
       "\n",
       "    .dataframe thead th {\n",
       "        text-align: right;\n",
       "    }\n",
       "</style>\n",
       "<table border=\"1\" class=\"dataframe\">\n",
       "  <thead>\n",
       "    <tr style=\"text-align: right;\">\n",
       "      <th></th>\n",
       "      <th>user_id</th>\n",
       "      <th>platform</th>\n",
       "      <th>registration_ts</th>\n",
       "      <th>profile_completion_ts</th>\n",
       "      <th>gender</th>\n",
       "      <th>gender_preference</th>\n",
       "      <th>photos_count</th>\n",
       "      <th>max_distance</th>\n",
       "      <th>metro_area</th>\n",
       "      <th>age</th>\n",
       "      <th>...</th>\n",
       "      <th>height_pref_min</th>\n",
       "      <th>height_strict</th>\n",
       "      <th>education_attained</th>\n",
       "      <th>dogs</th>\n",
       "      <th>cats</th>\n",
       "      <th>hobby1</th>\n",
       "      <th>hobby2</th>\n",
       "      <th>hobby3</th>\n",
       "      <th>hobby4</th>\n",
       "      <th>post_reg_active</th>\n",
       "    </tr>\n",
       "  </thead>\n",
       "  <tbody>\n",
       "    <tr>\n",
       "      <td>0</td>\n",
       "      <td>59758</td>\n",
       "      <td>Android</td>\n",
       "      <td>2018-10-19 11:46:12</td>\n",
       "      <td>2018-10-19 11:55:46</td>\n",
       "      <td>0.0</td>\n",
       "      <td>2.0</td>\n",
       "      <td>5</td>\n",
       "      <td>14.0</td>\n",
       "      <td>0</td>\n",
       "      <td>19</td>\n",
       "      <td>...</td>\n",
       "      <td>92.0</td>\n",
       "      <td>0.0</td>\n",
       "      <td>0.0</td>\n",
       "      <td>0.0</td>\n",
       "      <td>3.0</td>\n",
       "      <td>0</td>\n",
       "      <td>0</td>\n",
       "      <td>0</td>\n",
       "      <td>1</td>\n",
       "      <td>2018-10-20</td>\n",
       "    </tr>\n",
       "    <tr>\n",
       "      <td>1</td>\n",
       "      <td>65302</td>\n",
       "      <td>iOS</td>\n",
       "      <td>2018-10-23 15:49:03</td>\n",
       "      <td>2018-10-23 15:57:18</td>\n",
       "      <td>1.0</td>\n",
       "      <td>0.0</td>\n",
       "      <td>5</td>\n",
       "      <td>40.0</td>\n",
       "      <td>2</td>\n",
       "      <td>34</td>\n",
       "      <td>...</td>\n",
       "      <td>180.0</td>\n",
       "      <td>1.0</td>\n",
       "      <td>0.0</td>\n",
       "      <td>2.0</td>\n",
       "      <td>0.0</td>\n",
       "      <td>0</td>\n",
       "      <td>0</td>\n",
       "      <td>0</td>\n",
       "      <td>1</td>\n",
       "      <td>2018-10-24</td>\n",
       "    </tr>\n",
       "    <tr>\n",
       "      <td>2</td>\n",
       "      <td>91558</td>\n",
       "      <td>Android</td>\n",
       "      <td>2018-10-26 09:16:35</td>\n",
       "      <td>2018-10-26 09:21:13</td>\n",
       "      <td>0.0</td>\n",
       "      <td>1.0</td>\n",
       "      <td>5</td>\n",
       "      <td>50.0</td>\n",
       "      <td>57</td>\n",
       "      <td>23</td>\n",
       "      <td>...</td>\n",
       "      <td>166.0</td>\n",
       "      <td>0.0</td>\n",
       "      <td>0.0</td>\n",
       "      <td>2.0</td>\n",
       "      <td>3.0</td>\n",
       "      <td>0</td>\n",
       "      <td>0</td>\n",
       "      <td>0</td>\n",
       "      <td>0</td>\n",
       "      <td>2018-10-27</td>\n",
       "    </tr>\n",
       "    <tr>\n",
       "      <td>3</td>\n",
       "      <td>203292</td>\n",
       "      <td>Android</td>\n",
       "      <td>2018-11-05 01:03:21</td>\n",
       "      <td>2018-11-05 01:09:34</td>\n",
       "      <td>0.0</td>\n",
       "      <td>1.0</td>\n",
       "      <td>5</td>\n",
       "      <td>63.0</td>\n",
       "      <td>0</td>\n",
       "      <td>28</td>\n",
       "      <td>...</td>\n",
       "      <td>92.0</td>\n",
       "      <td>0.0</td>\n",
       "      <td>3.0</td>\n",
       "      <td>2.0</td>\n",
       "      <td>1.0</td>\n",
       "      <td>0</td>\n",
       "      <td>0</td>\n",
       "      <td>0</td>\n",
       "      <td>1</td>\n",
       "      <td>2018-11-06</td>\n",
       "    </tr>\n",
       "    <tr>\n",
       "      <td>4</td>\n",
       "      <td>222381</td>\n",
       "      <td>Android</td>\n",
       "      <td>2018-11-12 15:17:46</td>\n",
       "      <td>2018-11-12 15:19:52</td>\n",
       "      <td>0.0</td>\n",
       "      <td>1.0</td>\n",
       "      <td>5</td>\n",
       "      <td>100.0</td>\n",
       "      <td>0</td>\n",
       "      <td>25</td>\n",
       "      <td>...</td>\n",
       "      <td>92.0</td>\n",
       "      <td>0.0</td>\n",
       "      <td>3.0</td>\n",
       "      <td>0.0</td>\n",
       "      <td>3.0</td>\n",
       "      <td>0</td>\n",
       "      <td>0</td>\n",
       "      <td>0</td>\n",
       "      <td>1</td>\n",
       "      <td>2018-11-14</td>\n",
       "    </tr>\n",
       "    <tr>\n",
       "      <td>...</td>\n",
       "      <td>...</td>\n",
       "      <td>...</td>\n",
       "      <td>...</td>\n",
       "      <td>...</td>\n",
       "      <td>...</td>\n",
       "      <td>...</td>\n",
       "      <td>...</td>\n",
       "      <td>...</td>\n",
       "      <td>...</td>\n",
       "      <td>...</td>\n",
       "      <td>...</td>\n",
       "      <td>...</td>\n",
       "      <td>...</td>\n",
       "      <td>...</td>\n",
       "      <td>...</td>\n",
       "      <td>...</td>\n",
       "      <td>...</td>\n",
       "      <td>...</td>\n",
       "      <td>...</td>\n",
       "      <td>...</td>\n",
       "      <td>...</td>\n",
       "    </tr>\n",
       "    <tr>\n",
       "      <td>111719</td>\n",
       "      <td>246795</td>\n",
       "      <td>iOS</td>\n",
       "      <td>2018-11-14 02:01:27</td>\n",
       "      <td>2018-11-14 02:07:41</td>\n",
       "      <td>1.0</td>\n",
       "      <td>0.0</td>\n",
       "      <td>5</td>\n",
       "      <td>29.0</td>\n",
       "      <td>39</td>\n",
       "      <td>25</td>\n",
       "      <td>...</td>\n",
       "      <td>177.0</td>\n",
       "      <td>1.0</td>\n",
       "      <td>3.0</td>\n",
       "      <td>2.0</td>\n",
       "      <td>3.0</td>\n",
       "      <td>0</td>\n",
       "      <td>0</td>\n",
       "      <td>0</td>\n",
       "      <td>1</td>\n",
       "      <td>2018-11-15</td>\n",
       "    </tr>\n",
       "    <tr>\n",
       "      <td>111720</td>\n",
       "      <td>99908</td>\n",
       "      <td>Android</td>\n",
       "      <td>2018-10-31 21:59:52</td>\n",
       "      <td>2018-10-31 22:00:01</td>\n",
       "      <td>0.0</td>\n",
       "      <td>1.0</td>\n",
       "      <td>5</td>\n",
       "      <td>100.0</td>\n",
       "      <td>27</td>\n",
       "      <td>20</td>\n",
       "      <td>...</td>\n",
       "      <td>92.0</td>\n",
       "      <td>0.0</td>\n",
       "      <td>1.0</td>\n",
       "      <td>1.0</td>\n",
       "      <td>3.0</td>\n",
       "      <td>0</td>\n",
       "      <td>0</td>\n",
       "      <td>0</td>\n",
       "      <td>0</td>\n",
       "      <td>2018-11-01</td>\n",
       "    </tr>\n",
       "    <tr>\n",
       "      <td>111721</td>\n",
       "      <td>166198</td>\n",
       "      <td>Android</td>\n",
       "      <td>2018-10-27 11:09:41</td>\n",
       "      <td>2018-10-27 11:11:20</td>\n",
       "      <td>1.0</td>\n",
       "      <td>0.0</td>\n",
       "      <td>5</td>\n",
       "      <td>100.0</td>\n",
       "      <td>0</td>\n",
       "      <td>22</td>\n",
       "      <td>...</td>\n",
       "      <td>92.0</td>\n",
       "      <td>0.0</td>\n",
       "      <td>3.0</td>\n",
       "      <td>0.0</td>\n",
       "      <td>2.0</td>\n",
       "      <td>0</td>\n",
       "      <td>0</td>\n",
       "      <td>0</td>\n",
       "      <td>1</td>\n",
       "      <td>2018-10-28</td>\n",
       "    </tr>\n",
       "    <tr>\n",
       "      <td>111722</td>\n",
       "      <td>238222</td>\n",
       "      <td>Android</td>\n",
       "      <td>2018-11-11 17:22:36</td>\n",
       "      <td>2018-11-11 17:27:36</td>\n",
       "      <td>1.0</td>\n",
       "      <td>0.0</td>\n",
       "      <td>5</td>\n",
       "      <td>100.0</td>\n",
       "      <td>2</td>\n",
       "      <td>22</td>\n",
       "      <td>...</td>\n",
       "      <td>92.0</td>\n",
       "      <td>0.0</td>\n",
       "      <td>1.0</td>\n",
       "      <td>2.0</td>\n",
       "      <td>3.0</td>\n",
       "      <td>0</td>\n",
       "      <td>0</td>\n",
       "      <td>0</td>\n",
       "      <td>1</td>\n",
       "      <td>2018-11-12</td>\n",
       "    </tr>\n",
       "    <tr>\n",
       "      <td>111723</td>\n",
       "      <td>82459</td>\n",
       "      <td>Android</td>\n",
       "      <td>2018-11-10 22:50:27</td>\n",
       "      <td>2018-11-10 22:50:55</td>\n",
       "      <td>1.0</td>\n",
       "      <td>0.0</td>\n",
       "      <td>5</td>\n",
       "      <td>100.0</td>\n",
       "      <td>28</td>\n",
       "      <td>32</td>\n",
       "      <td>...</td>\n",
       "      <td>92.0</td>\n",
       "      <td>0.0</td>\n",
       "      <td>1.0</td>\n",
       "      <td>2.0</td>\n",
       "      <td>2.0</td>\n",
       "      <td>0</td>\n",
       "      <td>0</td>\n",
       "      <td>0</td>\n",
       "      <td>1</td>\n",
       "      <td>2018-11-11</td>\n",
       "    </tr>\n",
       "  </tbody>\n",
       "</table>\n",
       "<p>111724 rows × 25 columns</p>\n",
       "</div>"
      ],
      "text/plain": [
       "        user_id platform     registration_ts profile_completion_ts  gender  \\\n",
       "0         59758  Android 2018-10-19 11:46:12   2018-10-19 11:55:46     0.0   \n",
       "1         65302      iOS 2018-10-23 15:49:03   2018-10-23 15:57:18     1.0   \n",
       "2         91558  Android 2018-10-26 09:16:35   2018-10-26 09:21:13     0.0   \n",
       "3        203292  Android 2018-11-05 01:03:21   2018-11-05 01:09:34     0.0   \n",
       "4        222381  Android 2018-11-12 15:17:46   2018-11-12 15:19:52     0.0   \n",
       "...         ...      ...                 ...                   ...     ...   \n",
       "111719   246795      iOS 2018-11-14 02:01:27   2018-11-14 02:07:41     1.0   \n",
       "111720    99908  Android 2018-10-31 21:59:52   2018-10-31 22:00:01     0.0   \n",
       "111721   166198  Android 2018-10-27 11:09:41   2018-10-27 11:11:20     1.0   \n",
       "111722   238222  Android 2018-11-11 17:22:36   2018-11-11 17:27:36     1.0   \n",
       "111723    82459  Android 2018-11-10 22:50:27   2018-11-10 22:50:55     1.0   \n",
       "\n",
       "        gender_preference  photos_count  max_distance  metro_area  age  ...  \\\n",
       "0                     2.0             5          14.0           0   19  ...   \n",
       "1                     0.0             5          40.0           2   34  ...   \n",
       "2                     1.0             5          50.0          57   23  ...   \n",
       "3                     1.0             5          63.0           0   28  ...   \n",
       "4                     1.0             5         100.0           0   25  ...   \n",
       "...                   ...           ...           ...         ...  ...  ...   \n",
       "111719                0.0             5          29.0          39   25  ...   \n",
       "111720                1.0             5         100.0          27   20  ...   \n",
       "111721                0.0             5         100.0           0   22  ...   \n",
       "111722                0.0             5         100.0           2   22  ...   \n",
       "111723                0.0             5         100.0          28   32  ...   \n",
       "\n",
       "        height_pref_min  height_strict  education_attained  dogs  cats  \\\n",
       "0                  92.0            0.0                 0.0   0.0   3.0   \n",
       "1                 180.0            1.0                 0.0   2.0   0.0   \n",
       "2                 166.0            0.0                 0.0   2.0   3.0   \n",
       "3                  92.0            0.0                 3.0   2.0   1.0   \n",
       "4                  92.0            0.0                 3.0   0.0   3.0   \n",
       "...                 ...            ...                 ...   ...   ...   \n",
       "111719            177.0            1.0                 3.0   2.0   3.0   \n",
       "111720             92.0            0.0                 1.0   1.0   3.0   \n",
       "111721             92.0            0.0                 3.0   0.0   2.0   \n",
       "111722             92.0            0.0                 1.0   2.0   3.0   \n",
       "111723             92.0            0.0                 1.0   2.0   2.0   \n",
       "\n",
       "        hobby1  hobby2  hobby3  hobby4  post_reg_active  \n",
       "0            0       0       0       1       2018-10-20  \n",
       "1            0       0       0       1       2018-10-24  \n",
       "2            0       0       0       0       2018-10-27  \n",
       "3            0       0       0       1       2018-11-06  \n",
       "4            0       0       0       1       2018-11-14  \n",
       "...        ...     ...     ...     ...              ...  \n",
       "111719       0       0       0       1       2018-11-15  \n",
       "111720       0       0       0       0       2018-11-01  \n",
       "111721       0       0       0       1       2018-10-28  \n",
       "111722       0       0       0       1       2018-11-12  \n",
       "111723       0       0       0       1       2018-11-11  \n",
       "\n",
       "[111724 rows x 25 columns]"
      ]
     },
     "execution_count": 19,
     "metadata": {},
     "output_type": "execute_result"
    }
   ],
   "source": [
    "## STEP 2: let's now join our post_reg_activity df to our original users df (which contains registration date)\n",
    "\n",
    "    # pivotal to use a left join here - this ensures that users who were ONLY active on the same day they registered \n",
    "        # get tagged with a NULL post_reg_active date\n",
    "users_final = pd.merge(left = users, \n",
    "                  right = post_reg_activity,\n",
    "                  on = 'user_id',\n",
    "                  how = 'left')\n",
    "\n",
    "    #preview\n",
    "users_final"
   ]
  },
  {
   "cell_type": "markdown",
   "metadata": {},
   "source": [
    "Beautiful! Now we have our `post_reg_active` date appended to each of our `111,724` unique app users."
   ]
  },
  {
   "cell_type": "code",
   "execution_count": 20,
   "metadata": {},
   "outputs": [
    {
     "data": {
      "text/html": [
       "<div>\n",
       "<style scoped>\n",
       "    .dataframe tbody tr th:only-of-type {\n",
       "        vertical-align: middle;\n",
       "    }\n",
       "\n",
       "    .dataframe tbody tr th {\n",
       "        vertical-align: top;\n",
       "    }\n",
       "\n",
       "    .dataframe thead th {\n",
       "        text-align: right;\n",
       "    }\n",
       "</style>\n",
       "<table border=\"1\" class=\"dataframe\">\n",
       "  <thead>\n",
       "    <tr style=\"text-align: right;\">\n",
       "      <th></th>\n",
       "      <th>user_id</th>\n",
       "      <th>registration_ts</th>\n",
       "      <th>post_reg_active</th>\n",
       "      <th>delta_days</th>\n",
       "    </tr>\n",
       "  </thead>\n",
       "  <tbody>\n",
       "    <tr>\n",
       "      <td>0</td>\n",
       "      <td>59758</td>\n",
       "      <td>2018-10-19 11:46:12</td>\n",
       "      <td>2018-10-20</td>\n",
       "      <td>1.0</td>\n",
       "    </tr>\n",
       "    <tr>\n",
       "      <td>1</td>\n",
       "      <td>65302</td>\n",
       "      <td>2018-10-23 15:49:03</td>\n",
       "      <td>2018-10-24</td>\n",
       "      <td>1.0</td>\n",
       "    </tr>\n",
       "    <tr>\n",
       "      <td>2</td>\n",
       "      <td>91558</td>\n",
       "      <td>2018-10-26 09:16:35</td>\n",
       "      <td>2018-10-27</td>\n",
       "      <td>1.0</td>\n",
       "    </tr>\n",
       "    <tr>\n",
       "      <td>3</td>\n",
       "      <td>203292</td>\n",
       "      <td>2018-11-05 01:03:21</td>\n",
       "      <td>2018-11-06</td>\n",
       "      <td>1.0</td>\n",
       "    </tr>\n",
       "    <tr>\n",
       "      <td>4</td>\n",
       "      <td>222381</td>\n",
       "      <td>2018-11-12 15:17:46</td>\n",
       "      <td>2018-11-14</td>\n",
       "      <td>2.0</td>\n",
       "    </tr>\n",
       "  </tbody>\n",
       "</table>\n",
       "</div>"
      ],
      "text/plain": [
       "   user_id     registration_ts post_reg_active  delta_days\n",
       "0    59758 2018-10-19 11:46:12      2018-10-20         1.0\n",
       "1    65302 2018-10-23 15:49:03      2018-10-24         1.0\n",
       "2    91558 2018-10-26 09:16:35      2018-10-27         1.0\n",
       "3   203292 2018-11-05 01:03:21      2018-11-06         1.0\n",
       "4   222381 2018-11-12 15:17:46      2018-11-14         2.0"
      ]
     },
     "execution_count": 20,
     "metadata": {},
     "output_type": "execute_result"
    }
   ],
   "source": [
    "## STEP 3) let's compute a datediff field taking the difference between a user's registration and their subsequent active date\n",
    "\n",
    "    # calculate the difference\n",
    "users_final['delta_days'] = (users_final.post_reg_active - pd.to_datetime(users_final.registration_ts.dt.date)).dt.days\n",
    "\n",
    "    # preview\n",
    "users_final[['user_id', 'registration_ts', 'post_reg_active', 'delta_days']].head()\n",
    "    # observe our delta_days variable"
   ]
  },
  {
   "cell_type": "code",
   "execution_count": 21,
   "metadata": {},
   "outputs": [
    {
     "data": {
      "text/html": [
       "<div>\n",
       "<style scoped>\n",
       "    .dataframe tbody tr th:only-of-type {\n",
       "        vertical-align: middle;\n",
       "    }\n",
       "\n",
       "    .dataframe tbody tr th {\n",
       "        vertical-align: top;\n",
       "    }\n",
       "\n",
       "    .dataframe thead th {\n",
       "        text-align: right;\n",
       "    }\n",
       "</style>\n",
       "<table border=\"1\" class=\"dataframe\">\n",
       "  <thead>\n",
       "    <tr style=\"text-align: right;\">\n",
       "      <th></th>\n",
       "      <th>user_id</th>\n",
       "      <th>registration_ts</th>\n",
       "      <th>post_reg_active</th>\n",
       "      <th>delta_days</th>\n",
       "      <th>retention_rate</th>\n",
       "    </tr>\n",
       "  </thead>\n",
       "  <tbody>\n",
       "    <tr>\n",
       "      <td>0</td>\n",
       "      <td>59758</td>\n",
       "      <td>2018-10-19 11:46:12</td>\n",
       "      <td>2018-10-20</td>\n",
       "      <td>1.0</td>\n",
       "      <td>1</td>\n",
       "    </tr>\n",
       "    <tr>\n",
       "      <td>1</td>\n",
       "      <td>65302</td>\n",
       "      <td>2018-10-23 15:49:03</td>\n",
       "      <td>2018-10-24</td>\n",
       "      <td>1.0</td>\n",
       "      <td>1</td>\n",
       "    </tr>\n",
       "    <tr>\n",
       "      <td>2</td>\n",
       "      <td>91558</td>\n",
       "      <td>2018-10-26 09:16:35</td>\n",
       "      <td>2018-10-27</td>\n",
       "      <td>1.0</td>\n",
       "      <td>1</td>\n",
       "    </tr>\n",
       "    <tr>\n",
       "      <td>3</td>\n",
       "      <td>203292</td>\n",
       "      <td>2018-11-05 01:03:21</td>\n",
       "      <td>2018-11-06</td>\n",
       "      <td>1.0</td>\n",
       "      <td>1</td>\n",
       "    </tr>\n",
       "    <tr>\n",
       "      <td>4</td>\n",
       "      <td>222381</td>\n",
       "      <td>2018-11-12 15:17:46</td>\n",
       "      <td>2018-11-14</td>\n",
       "      <td>2.0</td>\n",
       "      <td>0</td>\n",
       "    </tr>\n",
       "    <tr>\n",
       "      <td>...</td>\n",
       "      <td>...</td>\n",
       "      <td>...</td>\n",
       "      <td>...</td>\n",
       "      <td>...</td>\n",
       "      <td>...</td>\n",
       "    </tr>\n",
       "    <tr>\n",
       "      <td>111719</td>\n",
       "      <td>246795</td>\n",
       "      <td>2018-11-14 02:01:27</td>\n",
       "      <td>2018-11-15</td>\n",
       "      <td>1.0</td>\n",
       "      <td>1</td>\n",
       "    </tr>\n",
       "    <tr>\n",
       "      <td>111720</td>\n",
       "      <td>99908</td>\n",
       "      <td>2018-10-31 21:59:52</td>\n",
       "      <td>2018-11-01</td>\n",
       "      <td>1.0</td>\n",
       "      <td>1</td>\n",
       "    </tr>\n",
       "    <tr>\n",
       "      <td>111721</td>\n",
       "      <td>166198</td>\n",
       "      <td>2018-10-27 11:09:41</td>\n",
       "      <td>2018-10-28</td>\n",
       "      <td>1.0</td>\n",
       "      <td>1</td>\n",
       "    </tr>\n",
       "    <tr>\n",
       "      <td>111722</td>\n",
       "      <td>238222</td>\n",
       "      <td>2018-11-11 17:22:36</td>\n",
       "      <td>2018-11-12</td>\n",
       "      <td>1.0</td>\n",
       "      <td>1</td>\n",
       "    </tr>\n",
       "    <tr>\n",
       "      <td>111723</td>\n",
       "      <td>82459</td>\n",
       "      <td>2018-11-10 22:50:27</td>\n",
       "      <td>2018-11-11</td>\n",
       "      <td>1.0</td>\n",
       "      <td>1</td>\n",
       "    </tr>\n",
       "  </tbody>\n",
       "</table>\n",
       "<p>111724 rows × 5 columns</p>\n",
       "</div>"
      ],
      "text/plain": [
       "        user_id     registration_ts post_reg_active  delta_days  \\\n",
       "0         59758 2018-10-19 11:46:12      2018-10-20         1.0   \n",
       "1         65302 2018-10-23 15:49:03      2018-10-24         1.0   \n",
       "2         91558 2018-10-26 09:16:35      2018-10-27         1.0   \n",
       "3        203292 2018-11-05 01:03:21      2018-11-06         1.0   \n",
       "4        222381 2018-11-12 15:17:46      2018-11-14         2.0   \n",
       "...         ...                 ...             ...         ...   \n",
       "111719   246795 2018-11-14 02:01:27      2018-11-15         1.0   \n",
       "111720    99908 2018-10-31 21:59:52      2018-11-01         1.0   \n",
       "111721   166198 2018-10-27 11:09:41      2018-10-28         1.0   \n",
       "111722   238222 2018-11-11 17:22:36      2018-11-12         1.0   \n",
       "111723    82459 2018-11-10 22:50:27      2018-11-11         1.0   \n",
       "\n",
       "        retention_rate  \n",
       "0                    1  \n",
       "1                    1  \n",
       "2                    1  \n",
       "3                    1  \n",
       "4                    0  \n",
       "...                ...  \n",
       "111719               1  \n",
       "111720               1  \n",
       "111721               1  \n",
       "111722               1  \n",
       "111723               1  \n",
       "\n",
       "[111724 rows x 5 columns]"
      ]
     },
     "execution_count": 21,
     "metadata": {},
     "output_type": "execute_result"
    }
   ],
   "source": [
    "## STEP 4) let's implement some logic to calculate our metric:\n",
    "    \n",
    "    # create quick function\n",
    "def retention(users_final):\n",
    "    if users_final['delta_days'] == 1: # i.e., iff active one day after registration then user was retained\n",
    "        return 1\n",
    "    return 0\n",
    "    \n",
    "    # apply our function\n",
    "users_final['retention_rate'] = users_final.apply(retention, axis=1)\n",
    "\n",
    "    # preview\n",
    "users_final[['user_id', 'registration_ts', 'post_reg_active', 'delta_days', 'retention_rate']]"
   ]
  },
  {
   "cell_type": "markdown",
   "metadata": {},
   "source": [
    "And there we have the computation of our `retention rate` metric for all `111,724` users we have user data on.\n",
    "\n",
    "Let's zoom into a few specific user sub-cases just to ensure things are looking good.\n",
    "\n",
    "- `User 3`: User was active on the app the day after their registration date\n",
    "- `User 6`: User was only active on the app the day they registered\n",
    "- `User 657`: User was first active on the app the day after they registered\n",
    "- `User 82031`: User registered but never was active on the app (at least in the data we have)\n",
    "- `User 222381`: User was active on the app after their registration date, but not on the very next day\n",
    "\n",
    "For context, before our manipulation the data for these users looked like this:"
   ]
  },
  {
   "cell_type": "code",
   "execution_count": 22,
   "metadata": {
    "scrolled": false
   },
   "outputs": [
    {
     "data": {
      "text/html": [
       "<div>\n",
       "<style scoped>\n",
       "    .dataframe tbody tr th:only-of-type {\n",
       "        vertical-align: middle;\n",
       "    }\n",
       "\n",
       "    .dataframe tbody tr th {\n",
       "        vertical-align: top;\n",
       "    }\n",
       "\n",
       "    .dataframe thead th {\n",
       "        text-align: right;\n",
       "    }\n",
       "</style>\n",
       "<table border=\"1\" class=\"dataframe\">\n",
       "  <thead>\n",
       "    <tr style=\"text-align: right;\">\n",
       "      <th></th>\n",
       "      <th>user_id</th>\n",
       "      <th>rating_type</th>\n",
       "      <th>ts_date</th>\n",
       "      <th>platform</th>\n",
       "      <th>registration_ts</th>\n",
       "    </tr>\n",
       "  </thead>\n",
       "  <tbody>\n",
       "    <tr>\n",
       "      <td>48</td>\n",
       "      <td>3</td>\n",
       "      <td>0</td>\n",
       "      <td>2018-11-13</td>\n",
       "      <td>Android</td>\n",
       "      <td>2018-11-13 06:38:34</td>\n",
       "    </tr>\n",
       "    <tr>\n",
       "      <td>52</td>\n",
       "      <td>3</td>\n",
       "      <td>1</td>\n",
       "      <td>2018-11-13</td>\n",
       "      <td>Android</td>\n",
       "      <td>2018-11-13 06:38:34</td>\n",
       "    </tr>\n",
       "    <tr>\n",
       "      <td>49</td>\n",
       "      <td>3</td>\n",
       "      <td>0</td>\n",
       "      <td>2018-11-14</td>\n",
       "      <td>Android</td>\n",
       "      <td>2018-11-13 06:38:34</td>\n",
       "    </tr>\n",
       "    <tr>\n",
       "      <td>53</td>\n",
       "      <td>3</td>\n",
       "      <td>1</td>\n",
       "      <td>2018-11-14</td>\n",
       "      <td>Android</td>\n",
       "      <td>2018-11-13 06:38:34</td>\n",
       "    </tr>\n",
       "    <tr>\n",
       "      <td>50</td>\n",
       "      <td>3</td>\n",
       "      <td>0</td>\n",
       "      <td>2018-11-15</td>\n",
       "      <td>Android</td>\n",
       "      <td>2018-11-13 06:38:34</td>\n",
       "    </tr>\n",
       "    <tr>\n",
       "      <td>54</td>\n",
       "      <td>3</td>\n",
       "      <td>1</td>\n",
       "      <td>2018-11-15</td>\n",
       "      <td>Android</td>\n",
       "      <td>2018-11-13 06:38:34</td>\n",
       "    </tr>\n",
       "    <tr>\n",
       "      <td>51</td>\n",
       "      <td>3</td>\n",
       "      <td>0</td>\n",
       "      <td>2018-11-16</td>\n",
       "      <td>Android</td>\n",
       "      <td>2018-11-13 06:38:34</td>\n",
       "    </tr>\n",
       "    <tr>\n",
       "      <td>55</td>\n",
       "      <td>3</td>\n",
       "      <td>1</td>\n",
       "      <td>2018-11-16</td>\n",
       "      <td>Android</td>\n",
       "      <td>2018-11-13 06:38:34</td>\n",
       "    </tr>\n",
       "    <tr>\n",
       "      <td>77</td>\n",
       "      <td>6</td>\n",
       "      <td>0</td>\n",
       "      <td>2018-10-17</td>\n",
       "      <td>Android</td>\n",
       "      <td>2018-10-17 04:22:29</td>\n",
       "    </tr>\n",
       "    <tr>\n",
       "      <td>78</td>\n",
       "      <td>6</td>\n",
       "      <td>1</td>\n",
       "      <td>2018-10-17</td>\n",
       "      <td>Android</td>\n",
       "      <td>2018-10-17 04:22:29</td>\n",
       "    </tr>\n",
       "    <tr>\n",
       "      <td>5991</td>\n",
       "      <td>657</td>\n",
       "      <td>0</td>\n",
       "      <td>2018-10-19</td>\n",
       "      <td>iOS</td>\n",
       "      <td>2018-10-18 23:54:04</td>\n",
       "    </tr>\n",
       "    <tr>\n",
       "      <td>5996</td>\n",
       "      <td>657</td>\n",
       "      <td>1</td>\n",
       "      <td>2018-10-19</td>\n",
       "      <td>iOS</td>\n",
       "      <td>2018-10-18 23:54:04</td>\n",
       "    </tr>\n",
       "    <tr>\n",
       "      <td>5992</td>\n",
       "      <td>657</td>\n",
       "      <td>0</td>\n",
       "      <td>2018-10-20</td>\n",
       "      <td>iOS</td>\n",
       "      <td>2018-10-18 23:54:04</td>\n",
       "    </tr>\n",
       "    <tr>\n",
       "      <td>5997</td>\n",
       "      <td>657</td>\n",
       "      <td>1</td>\n",
       "      <td>2018-10-20</td>\n",
       "      <td>iOS</td>\n",
       "      <td>2018-10-18 23:54:04</td>\n",
       "    </tr>\n",
       "    <tr>\n",
       "      <td>5993</td>\n",
       "      <td>657</td>\n",
       "      <td>0</td>\n",
       "      <td>2018-10-22</td>\n",
       "      <td>iOS</td>\n",
       "      <td>2018-10-18 23:54:04</td>\n",
       "    </tr>\n",
       "    <tr>\n",
       "      <td>5998</td>\n",
       "      <td>657</td>\n",
       "      <td>1</td>\n",
       "      <td>2018-10-22</td>\n",
       "      <td>iOS</td>\n",
       "      <td>2018-10-18 23:54:04</td>\n",
       "    </tr>\n",
       "    <tr>\n",
       "      <td>5994</td>\n",
       "      <td>657</td>\n",
       "      <td>0</td>\n",
       "      <td>2018-11-15</td>\n",
       "      <td>iOS</td>\n",
       "      <td>2018-10-18 23:54:04</td>\n",
       "    </tr>\n",
       "    <tr>\n",
       "      <td>5999</td>\n",
       "      <td>657</td>\n",
       "      <td>1</td>\n",
       "      <td>2018-11-15</td>\n",
       "      <td>iOS</td>\n",
       "      <td>2018-10-18 23:54:04</td>\n",
       "    </tr>\n",
       "    <tr>\n",
       "      <td>5995</td>\n",
       "      <td>657</td>\n",
       "      <td>0</td>\n",
       "      <td>2018-11-16</td>\n",
       "      <td>iOS</td>\n",
       "      <td>2018-10-18 23:54:04</td>\n",
       "    </tr>\n",
       "    <tr>\n",
       "      <td>6000</td>\n",
       "      <td>657</td>\n",
       "      <td>1</td>\n",
       "      <td>2018-11-16</td>\n",
       "      <td>iOS</td>\n",
       "      <td>2018-10-18 23:54:04</td>\n",
       "    </tr>\n",
       "    <tr>\n",
       "      <td>1629658</td>\n",
       "      <td>222381</td>\n",
       "      <td>0</td>\n",
       "      <td>2018-11-12</td>\n",
       "      <td>Android</td>\n",
       "      <td>2018-11-12 15:17:46</td>\n",
       "    </tr>\n",
       "    <tr>\n",
       "      <td>1629661</td>\n",
       "      <td>222381</td>\n",
       "      <td>1</td>\n",
       "      <td>2018-11-12</td>\n",
       "      <td>Android</td>\n",
       "      <td>2018-11-12 15:17:46</td>\n",
       "    </tr>\n",
       "    <tr>\n",
       "      <td>1629659</td>\n",
       "      <td>222381</td>\n",
       "      <td>0</td>\n",
       "      <td>2018-11-14</td>\n",
       "      <td>Android</td>\n",
       "      <td>2018-11-12 15:17:46</td>\n",
       "    </tr>\n",
       "    <tr>\n",
       "      <td>1629662</td>\n",
       "      <td>222381</td>\n",
       "      <td>1</td>\n",
       "      <td>2018-11-14</td>\n",
       "      <td>Android</td>\n",
       "      <td>2018-11-12 15:17:46</td>\n",
       "    </tr>\n",
       "    <tr>\n",
       "      <td>1629660</td>\n",
       "      <td>222381</td>\n",
       "      <td>0</td>\n",
       "      <td>2018-11-15</td>\n",
       "      <td>Android</td>\n",
       "      <td>2018-11-12 15:17:46</td>\n",
       "    </tr>\n",
       "    <tr>\n",
       "      <td>1629663</td>\n",
       "      <td>222381</td>\n",
       "      <td>1</td>\n",
       "      <td>2018-11-15</td>\n",
       "      <td>Android</td>\n",
       "      <td>2018-11-12 15:17:46</td>\n",
       "    </tr>\n",
       "  </tbody>\n",
       "</table>\n",
       "</div>"
      ],
      "text/plain": [
       "         user_id  rating_type    ts_date platform     registration_ts\n",
       "48             3            0 2018-11-13  Android 2018-11-13 06:38:34\n",
       "52             3            1 2018-11-13  Android 2018-11-13 06:38:34\n",
       "49             3            0 2018-11-14  Android 2018-11-13 06:38:34\n",
       "53             3            1 2018-11-14  Android 2018-11-13 06:38:34\n",
       "50             3            0 2018-11-15  Android 2018-11-13 06:38:34\n",
       "54             3            1 2018-11-15  Android 2018-11-13 06:38:34\n",
       "51             3            0 2018-11-16  Android 2018-11-13 06:38:34\n",
       "55             3            1 2018-11-16  Android 2018-11-13 06:38:34\n",
       "77             6            0 2018-10-17  Android 2018-10-17 04:22:29\n",
       "78             6            1 2018-10-17  Android 2018-10-17 04:22:29\n",
       "5991         657            0 2018-10-19      iOS 2018-10-18 23:54:04\n",
       "5996         657            1 2018-10-19      iOS 2018-10-18 23:54:04\n",
       "5992         657            0 2018-10-20      iOS 2018-10-18 23:54:04\n",
       "5997         657            1 2018-10-20      iOS 2018-10-18 23:54:04\n",
       "5993         657            0 2018-10-22      iOS 2018-10-18 23:54:04\n",
       "5998         657            1 2018-10-22      iOS 2018-10-18 23:54:04\n",
       "5994         657            0 2018-11-15      iOS 2018-10-18 23:54:04\n",
       "5999         657            1 2018-11-15      iOS 2018-10-18 23:54:04\n",
       "5995         657            0 2018-11-16      iOS 2018-10-18 23:54:04\n",
       "6000         657            1 2018-11-16      iOS 2018-10-18 23:54:04\n",
       "1629658   222381            0 2018-11-12  Android 2018-11-12 15:17:46\n",
       "1629661   222381            1 2018-11-12  Android 2018-11-12 15:17:46\n",
       "1629659   222381            0 2018-11-14  Android 2018-11-12 15:17:46\n",
       "1629662   222381            1 2018-11-14  Android 2018-11-12 15:17:46\n",
       "1629660   222381            0 2018-11-15  Android 2018-11-12 15:17:46\n",
       "1629663   222381            1 2018-11-15  Android 2018-11-12 15:17:46"
      ]
     },
     "execution_count": 22,
     "metadata": {},
     "output_type": "execute_result"
    }
   ],
   "source": [
    "user_ratings[user_ratings.user_id.isin([3,6,657,82031,222381])][['user_id','rating_type','ts_date','platform','registration_ts']].sort_values(['user_id','ts_date'])\n",
    "\n",
    "    # note that User 82031 doesn't even appear here as they had no ratings data recorded"
   ]
  },
  {
   "cell_type": "markdown",
   "metadata": {},
   "source": [
    "Now, we've obtained this:"
   ]
  },
  {
   "cell_type": "code",
   "execution_count": 23,
   "metadata": {},
   "outputs": [
    {
     "data": {
      "text/html": [
       "<div>\n",
       "<style scoped>\n",
       "    .dataframe tbody tr th:only-of-type {\n",
       "        vertical-align: middle;\n",
       "    }\n",
       "\n",
       "    .dataframe tbody tr th {\n",
       "        vertical-align: top;\n",
       "    }\n",
       "\n",
       "    .dataframe thead th {\n",
       "        text-align: right;\n",
       "    }\n",
       "</style>\n",
       "<table border=\"1\" class=\"dataframe\">\n",
       "  <thead>\n",
       "    <tr style=\"text-align: right;\">\n",
       "      <th></th>\n",
       "      <th>user_id</th>\n",
       "      <th>platform</th>\n",
       "      <th>registration_ts</th>\n",
       "      <th>post_reg_active</th>\n",
       "      <th>delta_days</th>\n",
       "      <th>retention_rate</th>\n",
       "    </tr>\n",
       "  </thead>\n",
       "  <tbody>\n",
       "    <tr>\n",
       "      <td>65544</td>\n",
       "      <td>3</td>\n",
       "      <td>Android</td>\n",
       "      <td>2018-11-13 06:38:34</td>\n",
       "      <td>2018-11-14</td>\n",
       "      <td>1.0</td>\n",
       "      <td>1</td>\n",
       "    </tr>\n",
       "    <tr>\n",
       "      <td>48275</td>\n",
       "      <td>6</td>\n",
       "      <td>Android</td>\n",
       "      <td>2018-10-17 04:22:29</td>\n",
       "      <td>NaT</td>\n",
       "      <td>NaN</td>\n",
       "      <td>0</td>\n",
       "    </tr>\n",
       "    <tr>\n",
       "      <td>96343</td>\n",
       "      <td>657</td>\n",
       "      <td>iOS</td>\n",
       "      <td>2018-10-18 23:54:04</td>\n",
       "      <td>2018-10-19</td>\n",
       "      <td>1.0</td>\n",
       "      <td>1</td>\n",
       "    </tr>\n",
       "    <tr>\n",
       "      <td>567</td>\n",
       "      <td>82031</td>\n",
       "      <td>iOS</td>\n",
       "      <td>2018-10-19 00:32:30</td>\n",
       "      <td>NaT</td>\n",
       "      <td>NaN</td>\n",
       "      <td>0</td>\n",
       "    </tr>\n",
       "    <tr>\n",
       "      <td>4</td>\n",
       "      <td>222381</td>\n",
       "      <td>Android</td>\n",
       "      <td>2018-11-12 15:17:46</td>\n",
       "      <td>2018-11-14</td>\n",
       "      <td>2.0</td>\n",
       "      <td>0</td>\n",
       "    </tr>\n",
       "  </tbody>\n",
       "</table>\n",
       "</div>"
      ],
      "text/plain": [
       "       user_id platform     registration_ts post_reg_active  delta_days  \\\n",
       "65544        3  Android 2018-11-13 06:38:34      2018-11-14         1.0   \n",
       "48275        6  Android 2018-10-17 04:22:29             NaT         NaN   \n",
       "96343      657      iOS 2018-10-18 23:54:04      2018-10-19         1.0   \n",
       "567      82031      iOS 2018-10-19 00:32:30             NaT         NaN   \n",
       "4       222381  Android 2018-11-12 15:17:46      2018-11-14         2.0   \n",
       "\n",
       "       retention_rate  \n",
       "65544               1  \n",
       "48275               0  \n",
       "96343               1  \n",
       "567                 0  \n",
       "4                   0  "
      ]
     },
     "execution_count": 23,
     "metadata": {},
     "output_type": "execute_result"
    }
   ],
   "source": [
    "# examine user sub-cases\n",
    "users_final[users_final.user_id.isin([3,6,657,82031,222381])][['user_id','platform','registration_ts','post_reg_active','delta_days','retention_rate']].sort_values('user_id')"
   ]
  },
  {
   "cell_type": "markdown",
   "metadata": {},
   "source": [
    "### Q2) Evaluating a Hypothetical Claim <a name=\"q2\"></a>\n",
    "\n",
    "**There is a claim stating that retention rates of Android and iOS users are different. Does the data support this claim? Is the retention rate of users on one platform consistently lower than that of the other?**"
   ]
  },
  {
   "cell_type": "markdown",
   "metadata": {},
   "source": [
    "We can quickly see that our overall retention rate (across all users over our timeframe) is **`76.6%`**."
   ]
  },
  {
   "cell_type": "code",
   "execution_count": 24,
   "metadata": {},
   "outputs": [
    {
     "data": {
      "text/plain": [
       "0.7661200816297304"
      ]
     },
     "execution_count": 24,
     "metadata": {},
     "output_type": "execute_result"
    }
   ],
   "source": [
    "# compute overall mean retention rate\n",
    "users_final['retention_rate'].mean()"
   ]
  },
  {
   "cell_type": "markdown",
   "metadata": {},
   "source": [
    "Just out of curiosity, let's take a quick look at the distribution of our `delta_days` variable to understand how soon after their registration date returning app users are active."
   ]
  },
  {
   "cell_type": "code",
   "execution_count": 25,
   "metadata": {},
   "outputs": [
    {
     "data": {
      "text/plain": [
       "<matplotlib.axes._subplots.AxesSubplot at 0x2d657797e88>"
      ]
     },
     "execution_count": 25,
     "metadata": {},
     "output_type": "execute_result"
    },
    {
     "data": {
      "image/png": "[encoded data removed]",
      "text/plain": [
       "<Figure size 432x288 with 1 Axes>"
      ]
     },
     "metadata": {
      "needs_background": "light"
     },
     "output_type": "display_data"
    }
   ],
   "source": [
    "# plot delta_days distribution\n",
    "sns.distplot(users_final[users_final['platform'] == 'iOS']['delta_days']) # blue\n",
    "sns.distplot(users_final[users_final['platform'] == 'Android']['delta_days']) # orange"
   ]
  },
  {
   "cell_type": "markdown",
   "metadata": {},
   "source": [
    "Now to explore the claim, let's evaluate the **average daily retention rate between platforms** to see how they compare and if one is *consistently* lower than the other on a daily basis."
   ]
  },
  {
   "cell_type": "code",
   "execution_count": 26,
   "metadata": {},
   "outputs": [
    {
     "data": {
      "text/html": [
       "<div>\n",
       "<style scoped>\n",
       "    .dataframe tbody tr th:only-of-type {\n",
       "        vertical-align: middle;\n",
       "    }\n",
       "\n",
       "    .dataframe tbody tr th {\n",
       "        vertical-align: top;\n",
       "    }\n",
       "\n",
       "    .dataframe thead th {\n",
       "        text-align: right;\n",
       "    }\n",
       "</style>\n",
       "<table border=\"1\" class=\"dataframe\">\n",
       "  <thead>\n",
       "    <tr style=\"text-align: right;\">\n",
       "      <th></th>\n",
       "      <th>platform</th>\n",
       "      <th>retention_rate</th>\n",
       "    </tr>\n",
       "  </thead>\n",
       "  <tbody>\n",
       "    <tr>\n",
       "      <td>0</td>\n",
       "      <td>Android</td>\n",
       "      <td>0.771335</td>\n",
       "    </tr>\n",
       "    <tr>\n",
       "      <td>1</td>\n",
       "      <td>iOS</td>\n",
       "      <td>0.758239</td>\n",
       "    </tr>\n",
       "  </tbody>\n",
       "</table>\n",
       "</div>"
      ],
      "text/plain": [
       "  platform  retention_rate\n",
       "0  Android        0.771335\n",
       "1      iOS        0.758239"
      ]
     },
     "metadata": {},
     "output_type": "display_data"
    },
    {
     "data": {
      "text/html": [
       "<div>\n",
       "<style scoped>\n",
       "    .dataframe tbody tr th:only-of-type {\n",
       "        vertical-align: middle;\n",
       "    }\n",
       "\n",
       "    .dataframe tbody tr th {\n",
       "        vertical-align: top;\n",
       "    }\n",
       "\n",
       "    .dataframe thead th {\n",
       "        text-align: right;\n",
       "    }\n",
       "</style>\n",
       "<table border=\"1\" class=\"dataframe\">\n",
       "  <thead>\n",
       "    <tr style=\"text-align: right;\">\n",
       "      <th></th>\n",
       "      <th>platform</th>\n",
       "      <th>registration_ts</th>\n",
       "      <th>retention_rate</th>\n",
       "    </tr>\n",
       "  </thead>\n",
       "  <tbody>\n",
       "    <tr>\n",
       "      <td>0</td>\n",
       "      <td>Android</td>\n",
       "      <td>2018-10-15</td>\n",
       "      <td>0.764477</td>\n",
       "    </tr>\n",
       "    <tr>\n",
       "      <td>1</td>\n",
       "      <td>Android</td>\n",
       "      <td>2018-10-16</td>\n",
       "      <td>0.760814</td>\n",
       "    </tr>\n",
       "    <tr>\n",
       "      <td>2</td>\n",
       "      <td>Android</td>\n",
       "      <td>2018-10-17</td>\n",
       "      <td>0.765272</td>\n",
       "    </tr>\n",
       "    <tr>\n",
       "      <td>3</td>\n",
       "      <td>Android</td>\n",
       "      <td>2018-10-18</td>\n",
       "      <td>0.770979</td>\n",
       "    </tr>\n",
       "    <tr>\n",
       "      <td>4</td>\n",
       "      <td>Android</td>\n",
       "      <td>2018-10-19</td>\n",
       "      <td>0.762045</td>\n",
       "    </tr>\n",
       "    <tr>\n",
       "      <td>...</td>\n",
       "      <td>...</td>\n",
       "      <td>...</td>\n",
       "      <td>...</td>\n",
       "    </tr>\n",
       "    <tr>\n",
       "      <td>57</td>\n",
       "      <td>iOS</td>\n",
       "      <td>2018-11-10</td>\n",
       "      <td>0.750678</td>\n",
       "    </tr>\n",
       "    <tr>\n",
       "      <td>58</td>\n",
       "      <td>iOS</td>\n",
       "      <td>2018-11-11</td>\n",
       "      <td>0.752252</td>\n",
       "    </tr>\n",
       "    <tr>\n",
       "      <td>59</td>\n",
       "      <td>iOS</td>\n",
       "      <td>2018-11-12</td>\n",
       "      <td>0.741353</td>\n",
       "    </tr>\n",
       "    <tr>\n",
       "      <td>60</td>\n",
       "      <td>iOS</td>\n",
       "      <td>2018-11-13</td>\n",
       "      <td>0.757637</td>\n",
       "    </tr>\n",
       "    <tr>\n",
       "      <td>61</td>\n",
       "      <td>iOS</td>\n",
       "      <td>2018-11-14</td>\n",
       "      <td>0.734607</td>\n",
       "    </tr>\n",
       "  </tbody>\n",
       "</table>\n",
       "<p>62 rows × 3 columns</p>\n",
       "</div>"
      ],
      "text/plain": [
       "   platform registration_ts  retention_rate\n",
       "0   Android      2018-10-15        0.764477\n",
       "1   Android      2018-10-16        0.760814\n",
       "2   Android      2018-10-17        0.765272\n",
       "3   Android      2018-10-18        0.770979\n",
       "4   Android      2018-10-19        0.762045\n",
       "..      ...             ...             ...\n",
       "57      iOS      2018-11-10        0.750678\n",
       "58      iOS      2018-11-11        0.752252\n",
       "59      iOS      2018-11-12        0.741353\n",
       "60      iOS      2018-11-13        0.757637\n",
       "61      iOS      2018-11-14        0.734607\n",
       "\n",
       "[62 rows x 3 columns]"
      ]
     },
     "execution_count": 26,
     "metadata": {},
     "output_type": "execute_result"
    }
   ],
   "source": [
    "# aggregate avg retention rate by platform\n",
    "display(users_final.groupby('platform')['retention_rate'].mean().reset_index())\n",
    "\n",
    "# also aggregate avg retention rate at a platform & registration date level\n",
    "retention_daily_agg = users_final.groupby([users_final.platform, users_final.registration_ts.dt.date])['retention_rate'].mean().reset_index()\n",
    "\n",
    "    # preview\n",
    "retention_daily_agg"
   ]
  },
  {
   "cell_type": "markdown",
   "metadata": {},
   "source": [
    "We see that the average next-day retention rate for new users on Android is `77.1%`, while it's `75.8%` for new users on iOS. \n",
    "\n",
    "In order to evaluate whether iOS users *consistently* have a lower retention rate, we can take a look at the average retention rate on a daily basis."
   ]
  },
  {
   "cell_type": "code",
   "execution_count": 27,
   "metadata": {},
   "outputs": [
    {
     "name": "stderr",
     "output_type": "stream",
     "text": [
      "C:\\Users\\ianno\\Anaconda3\\lib\\site-packages\\pandas\\plotting\\_matplotlib\\converter.py:103: FutureWarning: Using an implicitly registered datetime converter for a matplotlib plotting method. The converter was registered by pandas on import. Future versions of pandas will require you to explicitly register matplotlib converters.\n",
      "\n",
      "To register the converters:\n",
      "\t>>> from pandas.plotting import register_matplotlib_converters\n",
      "\t>>> register_matplotlib_converters()\n",
      "  warnings.warn(msg, FutureWarning)\n"
     ]
    },
    {
     "data": {
      "image/png": "[encoded data removed]",
      "text/plain": [
       "<Figure size 1008x432 with 1 Axes>"
      ]
     },
     "metadata": {
      "needs_background": "light"
     },
     "output_type": "display_data"
    }
   ],
   "source": [
    "# plot a time series of avg daily retention rate by platform\n",
    "plt.figure(figsize=(14,6))\n",
    "\n",
    "sns.lineplot(x = retention_daily_agg['registration_ts'],\n",
    "             y = retention_daily_agg['retention_rate'],\n",
    "             hue = retention_daily_agg['platform']).set(title='Avg Daily Retention Rate Platform')\n",
    "\n",
    "plt.show()"
   ]
  },
  {
   "cell_type": "markdown",
   "metadata": {},
   "source": [
    "Here we observe that retention rate is rather even over the first two weeks, but then retention rate for iOS users does in fact become consistently lower than that of Android users starting in November. It does look like the claim holds some validility, at least in the most recent 2 weeks of data that we have."
   ]
  },
  {
   "cell_type": "markdown",
   "metadata": {},
   "source": [
    "To take this to a slightly more rigorous level, we can also perform some testing to see if there actually exists a statistically significant difference in retention rate between platforms.\n",
    "\n",
    "Note that each user record we have at our disposal is effectively a Bernoulli trial - they either used the app on the day after registration (i.e., retained = 1) or they did not.\n",
    "\n",
    "We'll perform a **two-sided test on our retention rate proportions**. We can summarize our null and alternative hypotheses as follows:\n",
    "\n",
    "$$\n",
    "  H_O: {retention}_{iOS} = {retention}_{Android}\\\\\n",
    "  H_A: {retention}_{iOS} \\neq {retention}_{Android}\n",
    "$$\n",
    "\n",
    "We also know that our sample `n = 111,724` and `Pr(retention) = 0.766`.\n",
    "\n",
    "$$\n",
    "np > 10\\\\\n",
    "(111,724)(0.766) > 10\\\\\n",
    "85,581 > 10\n",
    "$$\n",
    "\n",
    "$$\n",
    "n(1-p) > 10\\\\\n",
    "(111,724)(0.234) > 10\\\\\n",
    "26,143 > 10\n",
    "$$\n",
    "\n",
    "This easily satisfies the conditions to assume normality through the central limit theorem (CLT). As a result, we can go the z-test route."
   ]
  },
  {
   "cell_type": "code",
   "execution_count": 28,
   "metadata": {},
   "outputs": [
    {
     "name": "stdout",
     "output_type": "stream",
     "text": [
      "z-score: -5.062\n",
      "p-value: 0.0000\n",
      "ci 95% for iOS users: [0.754, 0.762]\n",
      "ci 95% for Android users: [0.768, 0.775]\n"
     ]
    }
   ],
   "source": [
    "from statsmodels.stats.proportion import proportions_ztest, proportion_confint\n",
    "\n",
    "ios_users = users_final[users_final.platform == 'iOS']['retention_rate'] # ios user results\n",
    "android_users = users_final[users_final.platform == 'Android']['retention_rate'] # android user results\n",
    "\n",
    "n_ios = ios_users.count() #count of ios users\n",
    "n_android = android_users.count() #count of android users\n",
    "successes = [ios_users.sum(), android_users.sum()]\n",
    "n_obs = [n_ios, n_android]\n",
    "\n",
    "# two-sided stat test\n",
    "z_stat, pval = proportions_ztest(count = successes,\n",
    "                                 nobs = n_obs,\n",
    "                                 alternative = 'two-sided') # recall our null/alt hyp above\n",
    "\n",
    "# generate 95% confidence intervals for each platform\n",
    "(lower_con, lower_treat), (upper_con, upper_treat) = proportion_confint(count = successes,\n",
    "                  nobs = n_obs,\n",
    "                  alpha = 0.05)\n",
    "\n",
    "print(f'z-score: {z_stat:.3f}')\n",
    "print(f'p-value: {pval:.4f}')\n",
    "print(f'ci 95% for iOS users: [{lower_con:.3f}, {upper_con:.3f}]')\n",
    "print(f'ci 95% for Android users: [{lower_treat:.3f}, {upper_treat:.3f}]')"
   ]
  },
  {
   "cell_type": "markdown",
   "metadata": {},
   "source": [
    "We easily reject the null hypothesis (`p-val ~ 0`) and conclude that there is indeed a significant difference in retention rates between iOS and Android users. This provides further evidence backing the claim being made."
   ]
  },
  {
   "cell_type": "markdown",
   "metadata": {},
   "source": [
    "### Q3) Investigating Metric Difference & Experimental Design <a name=\"q3\"></a>\n",
    "\n",
    "<b> If Android/iOS user retention rates are different, </b>\n",
    "1. <b> What insights can you mine from the data that may be relevant to explaining the difference? </b>\n",
    "2. <b> State a hypothesis about why Android and iOS users have different retention rates, and design an experiment to test \n",
    "    your hypothesis. </b>"
   ]
  },
  {
   "cell_type": "markdown",
   "metadata": {},
   "source": [
    "#### Investigating Metric Difference <a name=\"q3a\"></a>"
   ]
  },
  {
   "cell_type": "markdown",
   "metadata": {},
   "source": [
    "Recall how we leveraged time series data in our Average Daily Retention Rate plot to see how iOS retention rate declined (and was consistently below) Android retention rate starting in November.\n",
    "\n",
    "There are a few high-level possibilities that could explain the difference:\n",
    "- User rating behavior differs between platforms\n",
    "- There exists some notable difference in user demographics between platforms\n",
    "- Some external factor impacted one platform and not the other at a particular point in time\n",
    "    - Referring to our daily retention rate plot, maybe some external factor impacted only iOS users causing the drop (e.g., more bot profiles created on iOS at the start of Nov, a new competing app only available on Apple products is introduced)\n",
    "- Some internal factor impacted the data generation process on one platform and not the other (e.g., bug fix, new feature launch)\n",
    "    \n",
    "Let's do some exploratory data analysis into some of the data points we've captured."
   ]
  },
  {
   "cell_type": "markdown",
   "metadata": {},
   "source": [
    "<u> New Users </u>\n",
    "\n",
    "Let's first take a look at how many new users registered for the app each day:"
   ]
  },
  {
   "cell_type": "code",
   "execution_count": 29,
   "metadata": {},
   "outputs": [
    {
     "data": {
      "image/png": "[encoded data removed]",
      "text/plain": [
       "<Figure size 1008x432 with 1 Axes>"
      ]
     },
     "metadata": {
      "needs_background": "light"
     },
     "output_type": "display_data"
    }
   ],
   "source": [
    "# let's explore new users\n",
    "new_users_by_platform = users_final.groupby([users_final.registration_ts.dt.date,users_final.platform])['user_id'].nunique().reset_index()\n",
    "\n",
    "plt.figure(figsize=(14,6))\n",
    "\n",
    "sns.lineplot(x = new_users_by_platform['registration_ts'],\n",
    "             y = new_users_by_platform['user_id'],\n",
    "             hue = new_users_by_platform['platform']).set(title='New Registered Users per Day by Platform', ylabel = 'new_users')\n",
    "\n",
    "plt.show()"
   ]
  },
  {
   "cell_type": "markdown",
   "metadata": {},
   "source": [
    "Note that both platforms are nearly perfectly symmetrical, though there are more Android users joining overall."
   ]
  },
  {
   "cell_type": "markdown",
   "metadata": {},
   "source": [
    "<u> General Rating Behavior </u>\n",
    "\n",
    "Let's explore general rating behavior:"
   ]
  },
  {
   "cell_type": "code",
   "execution_count": 30,
   "metadata": {},
   "outputs": [
    {
     "data": {
      "image/png": "[encoded data removed]",
      "text/plain": [
       "<Figure size 1008x432 with 1 Axes>"
      ]
     },
     "metadata": {
      "needs_background": "light"
     },
     "output_type": "display_data"
    }
   ],
   "source": [
    "# let's explore general rating behavior\n",
    "ratings_by_platform = user_ratings.groupby(['ts_date','platform'])['ct'].sum().reset_index()\n",
    "\n",
    "plt.figure(figsize=(14,6))\n",
    "\n",
    "sns.lineplot(x = ratings_by_platform['ts_date'],\n",
    "             y = ratings_by_platform['ct'],\n",
    "             hue = ratings_by_platform['platform']).set(title='Cumulative User Ratings Given per Day by Platform')\n",
    "\n",
    "plt.show()\n",
    "    # disregard dip on final date - data was only captured partially through Nov 17th"
   ]
  },
  {
   "cell_type": "markdown",
   "metadata": {},
   "source": [
    "We observe nothing too peculiar...aggregate ratings show steady, symmetric growth on both platforms (as more users join). Also note that there are more users on Android, hence why the blue line is higher."
   ]
  },
  {
   "cell_type": "markdown",
   "metadata": {},
   "source": [
    "<u> Granular Rating Behavior - User Likes </u>\n",
    "\n",
    "Let's also explore, in particular, how many likes are given out on average by users on each platform. Maybe users on one platform are giving more likes which could lead to more matches being made --> people being more content with the app --> better retention?"
   ]
  },
  {
   "cell_type": "code",
   "execution_count": 31,
   "metadata": {},
   "outputs": [
    {
     "data": {
      "image/png": "[encoded data removed]",
      "text/plain": [
       "<Figure size 1008x432 with 1 Axes>"
      ]
     },
     "metadata": {
      "needs_background": "light"
     },
     "output_type": "display_data"
    }
   ],
   "source": [
    "# how many likes are given out on avg by users on each platform\n",
    "likes_by_platform = user_ratings[user_ratings['rating_type'] == 1].groupby(['ts_date','platform'])['ct'].mean().reset_index()\n",
    "\n",
    "plt.figure(figsize=(14,6))\n",
    "\n",
    "sns.lineplot(x = likes_by_platform['ts_date'],\n",
    "             y = likes_by_platform['ct'],\n",
    "             hue = likes_by_platform['platform']).set(title='Avg User Likes Given per Day by Platform')\n",
    "\n",
    "plt.show()\n",
    "    # disregard dip on final date - data was only captured partially through Nov 17th"
   ]
  },
  {
   "cell_type": "markdown",
   "metadata": {},
   "source": [
    "While it's interesting that the average number of likes given per day by users appears to be declining, we find nothing too revealing here in terms of platform differences."
   ]
  },
  {
   "cell_type": "markdown",
   "metadata": {},
   "source": [
    "<u> \"Bot-Like\" Accounts </u>\n",
    "\n",
    "Perhaps there was a noteable increase in the number of accounts that never recorded any ratings data despite being registered. We did hypothesize about the possibility of bots/spam accounts being created on iOS which could explain the metric's decline..."
   ]
  },
  {
   "cell_type": "code",
   "execution_count": 32,
   "metadata": {},
   "outputs": [
    {
     "data": {
      "text/html": [
       "<div>\n",
       "<style scoped>\n",
       "    .dataframe tbody tr th:only-of-type {\n",
       "        vertical-align: middle;\n",
       "    }\n",
       "\n",
       "    .dataframe tbody tr th {\n",
       "        vertical-align: top;\n",
       "    }\n",
       "\n",
       "    .dataframe thead th {\n",
       "        text-align: right;\n",
       "    }\n",
       "</style>\n",
       "<table border=\"1\" class=\"dataframe\">\n",
       "  <thead>\n",
       "    <tr style=\"text-align: right;\">\n",
       "      <th></th>\n",
       "      <th>user_id</th>\n",
       "      <th>platform</th>\n",
       "      <th>registration_ts</th>\n",
       "      <th>profile_completion_ts</th>\n",
       "      <th>gender</th>\n",
       "      <th>gender_preference</th>\n",
       "      <th>photos_count</th>\n",
       "      <th>max_distance</th>\n",
       "      <th>metro_area</th>\n",
       "      <th>age</th>\n",
       "      <th>...</th>\n",
       "      <th>education_attained</th>\n",
       "      <th>dogs</th>\n",
       "      <th>cats</th>\n",
       "      <th>hobby1</th>\n",
       "      <th>hobby2</th>\n",
       "      <th>hobby3</th>\n",
       "      <th>hobby4</th>\n",
       "      <th>rating_type</th>\n",
       "      <th>ts_date</th>\n",
       "      <th>ct</th>\n",
       "    </tr>\n",
       "  </thead>\n",
       "  <tbody>\n",
       "    <tr>\n",
       "      <td>349</td>\n",
       "      <td>202758</td>\n",
       "      <td>iOS</td>\n",
       "      <td>2018-11-04 23:35:28</td>\n",
       "      <td>2018-11-04 23:36:57</td>\n",
       "      <td>1.0</td>\n",
       "      <td>1.0</td>\n",
       "      <td>5</td>\n",
       "      <td>100.0</td>\n",
       "      <td>0</td>\n",
       "      <td>24</td>\n",
       "      <td>...</td>\n",
       "      <td>3.0</td>\n",
       "      <td>2.0</td>\n",
       "      <td>3.0</td>\n",
       "      <td>0</td>\n",
       "      <td>1</td>\n",
       "      <td>1</td>\n",
       "      <td>1</td>\n",
       "      <td>NaN</td>\n",
       "      <td>NaT</td>\n",
       "      <td>NaN</td>\n",
       "    </tr>\n",
       "    <tr>\n",
       "      <td>1591</td>\n",
       "      <td>238396</td>\n",
       "      <td>Android</td>\n",
       "      <td>2018-11-10 16:11:53</td>\n",
       "      <td>2018-11-10 16:12:05</td>\n",
       "      <td>1.0</td>\n",
       "      <td>0.0</td>\n",
       "      <td>5</td>\n",
       "      <td>16.0</td>\n",
       "      <td>52</td>\n",
       "      <td>37</td>\n",
       "      <td>...</td>\n",
       "      <td>1.0</td>\n",
       "      <td>0.0</td>\n",
       "      <td>2.0</td>\n",
       "      <td>0</td>\n",
       "      <td>0</td>\n",
       "      <td>0</td>\n",
       "      <td>1</td>\n",
       "      <td>NaN</td>\n",
       "      <td>NaT</td>\n",
       "      <td>NaN</td>\n",
       "    </tr>\n",
       "  </tbody>\n",
       "</table>\n",
       "<p>2 rows × 27 columns</p>\n",
       "</div>"
      ],
      "text/plain": [
       "      user_id platform     registration_ts profile_completion_ts  gender  \\\n",
       "349    202758      iOS 2018-11-04 23:35:28   2018-11-04 23:36:57     1.0   \n",
       "1591   238396  Android 2018-11-10 16:11:53   2018-11-10 16:12:05     1.0   \n",
       "\n",
       "      gender_preference  photos_count  max_distance  metro_area  age  ...  \\\n",
       "349                 1.0             5         100.0           0   24  ...   \n",
       "1591                0.0             5          16.0          52   37  ...   \n",
       "\n",
       "      education_attained  dogs  cats  hobby1  hobby2  hobby3  hobby4  \\\n",
       "349                  3.0   2.0   3.0       0       1       1       1   \n",
       "1591                 1.0   0.0   2.0       0       0       0       1   \n",
       "\n",
       "      rating_type  ts_date  ct  \n",
       "349           NaN      NaT NaN  \n",
       "1591          NaN      NaT NaN  \n",
       "\n",
       "[2 rows x 27 columns]"
      ]
     },
     "execution_count": 32,
     "metadata": {},
     "output_type": "execute_result"
    }
   ],
   "source": [
    "# find accounts present in users but not in ratings\n",
    "temp = pd.merge(left = users, \n",
    "                right = ratings_agg, \n",
    "                on = 'user_id',\n",
    "                how = 'left')\n",
    "\n",
    "bots = temp[temp.ct.isnull()]\n",
    "\n",
    "bots.head(2) # 850 total"
   ]
  },
  {
   "cell_type": "code",
   "execution_count": 33,
   "metadata": {},
   "outputs": [
    {
     "data": {
      "image/png": "[encoded data removed]",
      "text/plain": [
       "<Figure size 1008x432 with 1 Axes>"
      ]
     },
     "metadata": {
      "needs_background": "light"
     },
     "output_type": "display_data"
    }
   ],
   "source": [
    "# how many hypothetical \"bot\" accounts were created per day by platform\n",
    "bots_by_platform = bots.groupby([bots.registration_ts.dt.date,bots.platform])['user_id'].nunique().reset_index()\n",
    "\n",
    "# calculate ratio of \"bots\" / new users\n",
    "bot_ratio_by_platform = pd.merge(left = bots_by_platform,\n",
    "                                 right = new_users_by_platform,\n",
    "                                 on = ['registration_ts','platform'],\n",
    "                                 how = 'inner')\n",
    "\n",
    "bot_ratio_by_platform['bot_ratio'] = bot_ratio_by_platform.user_id_x / bot_ratio_by_platform.user_id_y\n",
    "\n",
    "plt.figure(figsize=(14,6))\n",
    "\n",
    "sns.lineplot(x = bot_ratio_by_platform['registration_ts'],\n",
    "             y = bot_ratio_by_platform['bot_ratio'],\n",
    "             hue = bot_ratio_by_platform['platform']).set(title='% of \"Bot Accounts\" Created per Day by Platform')\n",
    "\n",
    "plt.show()"
   ]
  },
  {
   "cell_type": "markdown",
   "metadata": {},
   "source": [
    "Again, there is no indication of a sudden increase in prevalence of these accounts for the iOS platform, and they are generally just as likely to occur on Android."
   ]
  },
  {
   "cell_type": "markdown",
   "metadata": {},
   "source": [
    "<u> Demographic Variables </u>\n",
    "\n",
    "Below I do a quick scan of some of our descriptive demographic variables to see if there are any unexpected differences in iOS users vs Android users, though no clear differences are revealed at an aggregated level."
   ]
  },
  {
   "cell_type": "code",
   "execution_count": 34,
   "metadata": {
    "scrolled": true
   },
   "outputs": [
    {
     "data": {
      "text/plain": [
       "0.0    0.58052\n",
       "1.0    0.41948\n",
       "Name: gender, dtype: float64"
      ]
     },
     "metadata": {},
     "output_type": "display_data"
    },
    {
     "data": {
      "text/plain": [
       "0.0    0.60257\n",
       "1.0    0.39743\n",
       "Name: gender, dtype: float64"
      ]
     },
     "metadata": {},
     "output_type": "display_data"
    },
    {
     "data": {
      "text/plain": [
       "0     0.236232\n",
       "39    0.107562\n",
       "27    0.076294\n",
       "28    0.059322\n",
       "6     0.038169\n",
       "        ...   \n",
       "61    0.000045\n",
       "68    0.000022\n",
       "74    0.000022\n",
       "75    0.000022\n",
       "77    0.000022\n",
       "Name: metro_area, Length: 66, dtype: float64"
      ]
     },
     "metadata": {},
     "output_type": "display_data"
    },
    {
     "data": {
      "text/plain": [
       "0     0.235239\n",
       "39    0.095630\n",
       "27    0.087495\n",
       "28    0.051935\n",
       "6     0.042461\n",
       "        ...   \n",
       "67    0.000015\n",
       "73    0.000015\n",
       "65    0.000015\n",
       "75    0.000015\n",
       "62    0.000015\n",
       "Name: metro_area, Length: 70, dtype: float64"
      ]
     },
     "metadata": {},
     "output_type": "display_data"
    },
    {
     "data": {
      "text/plain": [
       "1.0    0.880136\n",
       "0.0    0.119864\n",
       "Name: age_strict, dtype: float64"
      ]
     },
     "metadata": {},
     "output_type": "display_data"
    },
    {
     "data": {
      "text/plain": [
       "1.0    0.878891\n",
       "0.0    0.121109\n",
       "Name: age_strict, dtype: float64"
      ]
     },
     "metadata": {},
     "output_type": "display_data"
    },
    {
     "data": {
      "text/plain": [
       "0.0    0.819764\n",
       "1.0    0.180236\n",
       "Name: height_strict, dtype: float64"
      ]
     },
     "metadata": {},
     "output_type": "display_data"
    },
    {
     "data": {
      "text/plain": [
       "0.0    0.819939\n",
       "1.0    0.180061\n",
       "Name: height_strict, dtype: float64"
      ]
     },
     "metadata": {},
     "output_type": "display_data"
    },
    {
     "data": {
      "text/plain": [
       "1.0    0.426436\n",
       "2.0    0.218433\n",
       "3.0    0.215219\n",
       "0.0    0.139912\n",
       "Name: education_attained, dtype: float64"
      ]
     },
     "metadata": {},
     "output_type": "display_data"
    },
    {
     "data": {
      "text/plain": [
       "1.0    0.462959\n",
       "2.0    0.226363\n",
       "3.0    0.190520\n",
       "0.0    0.120157\n",
       "Name: education_attained, dtype: float64"
      ]
     },
     "metadata": {},
     "output_type": "display_data"
    }
   ],
   "source": [
    "# categorical features\n",
    "    \n",
    "    # user gender\n",
    "display(users_final[users_final.platform == 'iOS']['gender'].value_counts(normalize = True))\n",
    "display(users_final[users_final.platform == 'Android']['gender'].value_counts(normalize = True))\n",
    "\n",
    "    # metro area\n",
    "display(users_final[users_final.platform == 'iOS']['metro_area'].value_counts(normalize = True))\n",
    "display(users_final[users_final.platform == 'Android']['metro_area'].value_counts(normalize = True))\n",
    "\n",
    "    # age deal-breaker\n",
    "display(users_final[users_final.platform == 'iOS']['age_strict'].value_counts(normalize = True))\n",
    "display(users_final[users_final.platform == 'Android']['age_strict'].value_counts(normalize = True))\n",
    "\n",
    "    # height deal-breaker\n",
    "display(users_final[users_final.platform == 'iOS']['height_strict'].value_counts(normalize = True))\n",
    "display(users_final[users_final.platform == 'Android']['height_strict'].value_counts(normalize = True))\n",
    "\n",
    "    # education attained\n",
    "display(users_final[users_final.platform == 'iOS']['education_attained'].value_counts(normalize = True))\n",
    "display(users_final[users_final.platform == 'Android']['education_attained'].value_counts(normalize = True))"
   ]
  },
  {
   "cell_type": "code",
   "execution_count": 35,
   "metadata": {
    "scrolled": false
   },
   "outputs": [
    {
     "data": {
      "image/png": "[encoded data removed]",
      "text/plain": [
       "<Figure size 432x288 with 1 Axes>"
      ]
     },
     "metadata": {
      "needs_background": "light"
     },
     "output_type": "display_data"
    },
    {
     "data": {
      "image/png": "[encoded data removed]",
      "text/plain": [
       "<Figure size 432x288 with 1 Axes>"
      ]
     },
     "metadata": {
      "needs_background": "light"
     },
     "output_type": "display_data"
    },
    {
     "data": {
      "image/png": "[encoded data removed]",
      "text/plain": [
       "<Figure size 432x288 with 1 Axes>"
      ]
     },
     "metadata": {
      "needs_background": "light"
     },
     "output_type": "display_data"
    }
   ],
   "source": [
    "# numerical features\n",
    "\n",
    "    # max distance\n",
    "sns.boxplot(x = users_final['platform'],\n",
    "            y = users_final['max_distance'])\n",
    "plt.show()\n",
    "\n",
    "    # user age\n",
    "sns.boxplot(x = users_final['platform'],\n",
    "            y = users_final[users_final.age < 100]['age']) # filter outliers\n",
    "plt.show()\n",
    "\n",
    "    # user height\n",
    "sns.boxplot(x = users_final['platform'],\n",
    "            y = users_final['height'])\n",
    "plt.show()"
   ]
  },
  {
   "cell_type": "markdown",
   "metadata": {},
   "source": [
    "#### Experimental Design <a name=\"q3b\"></a>"
   ]
  },
  {
   "cell_type": "markdown",
   "metadata": {},
   "source": [
    "To conclude, we hypothesize that there may have been some internal/external factor that impacted iOS users differently than Android users starting in November. This is reflected in the iOS decline we observe in our Average Daily Retention Rate plot. One plausible reason for this could be if a new product feature was launched exclusive to Android users which helped keep their retention rate healthy.\n",
    "\n",
    "If we were to design an experiment to test the validity of this hypothesis, I would suggest performing some A/B testing and rolling out a similar product feature to iOS users to see if it does in fact have the suspected impact. I would go through the following key steps:\n",
    "\n",
    "1. **Confirm Randomization Unit**: We know we'll need two samples and that the experiment will be run on iOS users.\n",
    "<br>\n",
    "\n",
    "2. **Formulate the hypothesis**: The null hypothesis here would be that there is no difference in retention rate between iOS users who get the new product feature and those who don't, while the alternative hypothesis would be that there does exist a difference.\n",
    "\n",
    "$$\n",
    "  H_O: {retention}_{control} = {retention}_{treatment}\\\\\n",
    "  H_A: {retention}_{control} \\neq {retention}_{treatment}\n",
    "$$\n",
    "\n",
    "3. **Define statistical parameters**: \n",
    "\n",
    "    - We can set a confidence level of 95% meaning our that our critical value `α = 0.05` (industry standard). This just means that if there is truly no effect (i.e., null hypothesis is correct), we can correctly infer there is no effect 95% of the time.\n",
    "    - We will also set `power = 0.80` (also industry standard). Recall that power is the probability of correctly rejecting the null hypothesis when there is in fact a difference. We want enough power in our experiment to be able to conclude with a high probability whether our experiment has resulted in a significant change.\n",
    "    - Lastly we can set `MDE = 2%`. The minimum detectable effect is the smallest difference in our metric that would have practical relevance to us. I've pulled this value as there was roughly a 2% difference in the mean retention rate between Android and iOS (`77.1%` vs `75.8%`) in our observed data.\n",
    "<br>\n",
    "\n",
    "\n",
    "4. **Determine sample size**: We can run a power analysis to determine our necessary sample size, using the statistical parameters established above"
   ]
  },
  {
   "cell_type": "code",
   "execution_count": 36,
   "metadata": {},
   "outputs": [
    {
     "data": {
      "text/plain": [
       "39244.30254664326"
      ]
     },
     "execution_count": 36,
     "metadata": {},
     "output_type": "execute_result"
    }
   ],
   "source": [
    "# sample power analysis\n",
    "import statsmodels.stats.api as sms\n",
    "\n",
    "required_n = sms.NormalIndPower().solve_power(effect_size = 0.02,\n",
    "                                              power = 0.8,\n",
    "                                              alpha = 0.05,\n",
    "                                              ratio = 1 # for even samples\n",
    "                                              )\n",
    "required_n"
   ]
  },
  {
   "cell_type": "markdown",
   "metadata": {},
   "source": [
    "We can see that we'd require `~39,245` for each sampling group.\n",
    "\n",
    "5. **Set experimentation time**: Would likely set the experiment to run for 3 weeks. This should be long enough to account for day of week effects and primacy/novelty effects.\n",
    "<br>\n",
    "\n",
    "6. **Perform statistical testing**: Once the results from our A/B experiment are collected and verified (check there are no violations of SUTVA), we can go forth with our statistical test. Similar to the hypothesis test we performed earlier when validating the hypothetical claim, we'll run a two-sample z-test on our proportions. If our test comes back with a `p-value` less than our significance level `0.05` we'll have enough evidence to reject the null hypothesis and conclude that the new product feature did in fact have an impact on next-day retention rate for our iOS users."
   ]
  }
 ],
 "metadata": {
  "kernelspec": {
   "display_name": "Python 3",
   "language": "python",
   "name": "python3"
  },
  "language_info": {
   "codemirror_mode": {
    "name": "ipython",
    "version": 3
   },
   "file_extension": ".py",
   "mimetype": "text/x-python",
   "name": "python",
   "nbconvert_exporter": "python",
   "pygments_lexer": "ipython3",
   "version": "3.7.4"
  }
 },
 "nbformat": 4,
 "nbformat_minor": 2
}
